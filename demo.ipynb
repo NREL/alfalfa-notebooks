{
 "cells": [
  {
   "cell_type": "markdown",
   "id": "eca9cde5",
   "metadata": {},
   "source": [
    "# Simple Alfalfa Example\n",
    "\n",
    "## Setup\n",
    "1. [Alfalfa stack deployed](https://github.com/NREL/alfalfa/wiki/Deployment) locally with **at least two workers**\n",
    "1. Create `small_office.zip` from `models`, `weather`, and `measures` folders and `small_office.osw`\n",
    "\n",
    "## Notes\n",
    "1. For Alfalfa v0.2.0, API reads and writes are implemented over the [Haystack API](https://project-haystack.org/doc/docHaystack/HttpApi), particularly the `read` and `pointWrite` endpoints.\n"
   ]
  },
  {
   "cell_type": "code",
   "execution_count": 16,
   "id": "dbf348d8",
   "metadata": {},
   "outputs": [],
   "source": [
    "import os\n",
    "import datetime\n",
    "import time\n",
    "from alfalfa_client.alfalfa_client import AlfalfaClient"
   ]
  },
  {
   "cell_type": "code",
   "execution_count": 17,
   "id": "1a6f2000",
   "metadata": {},
   "outputs": [],
   "source": [
    "# Create a new client\n",
    "ac = AlfalfaClient(url='http://localhost')"
   ]
  },
  {
   "cell_type": "code",
   "execution_count": 18,
   "id": "9a981f5e",
   "metadata": {},
   "outputs": [],
   "source": [
    "# Local paths to models for upload\n",
    "model_paths = []\n",
    "for i in range(180,182):\n",
    "    model_paths.append(f'../CCTwin-scripts/bldg_models/apr22demo/zips/{i}.zip')"
   ]
  },
  {
   "cell_type": "code",
   "execution_count": 19,
   "id": "83eed335",
   "metadata": {},
   "outputs": [
    {
     "name": "stdout",
     "output_type": "stream",
     "text": [
      "../CCTwin-scripts/bldg_models/apr22demo/zips/180.zip\n",
      "Desired status: Stopped\t\tCurrent status: \n",
      "Desired status: Stopped\t\tCurrent status: Stopped\n",
      "../CCTwin-scripts/bldg_models/apr22demo/zips/181.zip\n",
      "Desired status: Stopped\t\tCurrent status: \n",
      "Desired status: Stopped\t\tCurrent status: \n"
     ]
    }
   ],
   "source": [
    "# Upload to Alfalfa \n",
    "model_ids = {}\n",
    "for p in model_paths:\n",
    "    print(p)\n",
    "    # TODO add error handling\n",
    "    model_ids[p] = ac.submit(p)\n",
    "# m1_id = ac.submit(m1)\n",
    "# m2_id = ac.submit(m2)\n"
   ]
  },
  {
   "cell_type": "code",
   "execution_count": 20,
   "id": "3a3e5857",
   "metadata": {},
   "outputs": [
    {
     "name": "stdout",
     "output_type": "stream",
     "text": [
      "{'../CCTwin-scripts/bldg_models/apr22demo/zips/180.zip': 'd5da77f6-c05a-11ec-aecf-acde48001122', '../CCTwin-scripts/bldg_models/apr22demo/zips/181.zip': 'd9b4e154-c05a-11ec-aecf-acde48001122'}\n"
     ]
    }
   ],
   "source": [
    "print(model_ids)"
   ]
  },
  {
   "cell_type": "code",
   "execution_count": 21,
   "id": "7db94646",
   "metadata": {},
   "outputs": [],
   "source": [
    "# Define the run parameters.  \n",
    "# If you are using historian, you will need to search for this time period in Grafana dashboard to view results.\n",
    "start_dt = datetime.datetime(2017, 9, 26, 0, 0, 0)\n",
    "end_dt = datetime.datetime(2017, 9, 27, 0, 0, 0)\n",
    "\n",
    "# For external_clock == true, API calls are used to advance the model.  \n",
    "# If external_clock == false, Alfalfa will handle advancing the model according to a specified timescale (timescale 1 => realtime)\n",
    "params = {\n",
    "    \"external_clock\": \"true\",\n",
    "    \"start_datetime\": start_dt,\n",
    "    \"end_datetime\": end_dt\n",
    "}"
   ]
  },
  {
   "cell_type": "code",
   "execution_count": 22,
   "id": "020b9269",
   "metadata": {},
   "outputs": [
    {
     "name": "stdout",
     "output_type": "stream",
     "text": [
      "d5da77f6-c05a-11ec-aecf-acde48001122\n",
      "Desired status: Running\t\tCurrent status: Starting\n",
      "Desired status: Running\t\tCurrent status: Starting\n",
      "Desired status: Running\t\tCurrent status: Starting\n",
      "Desired status: Running\t\tCurrent status: Starting\n",
      "Desired status: Running\t\tCurrent status: Starting\n",
      "Desired status: Running\t\tCurrent status: Starting\n",
      "Desired status: Running\t\tCurrent status: Starting\n",
      "Desired status: Running\t\tCurrent status: Starting\n",
      "Desired status: Running\t\tCurrent status: Starting\n",
      "d9b4e154-c05a-11ec-aecf-acde48001122\n",
      "Desired status: Running\t\tCurrent status: Starting\n",
      "Desired status: Running\t\tCurrent status: Starting\n",
      "Desired status: Running\t\tCurrent status: Starting\n",
      "Desired status: Running\t\tCurrent status: Starting\n",
      "Desired status: Running\t\tCurrent status: Starting\n",
      "Desired status: Running\t\tCurrent status: Starting\n",
      "Desired status: Running\t\tCurrent status: Starting\n",
      "Desired status: Running\t\tCurrent status: Starting\n",
      "Desired status: Running\t\tCurrent status: Starting\n",
      "Desired status: Running\t\tCurrent status: Starting\n",
      "Desired status: Running\t\tCurrent status: Starting\n",
      "Desired status: Running\t\tCurrent status: Starting\n",
      "Desired status: Running\t\tCurrent status: Starting\n",
      "Desired status: Running\t\tCurrent status: Starting\n",
      "Desired status: Running\t\tCurrent status: Starting\n",
      "Desired status: Running\t\tCurrent status: Starting\n",
      "Desired status: Running\t\tCurrent status: Starting\n",
      "Desired status: Running\t\tCurrent status: Starting\n",
      "Desired status: Running\t\tCurrent status: Starting\n",
      "Desired status: Running\t\tCurrent status: Starting\n",
      "Desired status: Running\t\tCurrent status: Starting\n",
      "Desired status: Running\t\tCurrent status: Starting\n",
      "Desired status: Running\t\tCurrent status: Starting\n",
      "Desired status: Running\t\tCurrent status: Starting\n",
      "Desired status: Running\t\tCurrent status: Starting\n",
      "Desired status: Running\t\tCurrent status: Starting\n",
      "Desired status: Running\t\tCurrent status: Starting\n",
      "Desired status: Running\t\tCurrent status: Starting\n"
     ]
    }
   ],
   "source": [
    "# Start simulations.  since we're using external clock, will take through warmup and stop\n",
    "for i in model_ids.values():\n",
    "    print(i)\n",
    "    ac.start(i, **params)"
   ]
  },
  {
   "cell_type": "code",
   "execution_count": 24,
   "id": "d486b7eb",
   "metadata": {},
   "outputs": [],
   "source": [
    "#run for 1 day  \n",
    "for i in range(1440):\n",
    "    # TODO sum across all buildings and persist value\n",
    "    # TODO check timestep and wriite OpenADR if changed\n",
    "\n",
    "    # Advance the models.  there is apparently some blocking here at the web layer \n",
    "    ac.advance(model_ids.values())"
   ]
  },
  {
   "cell_type": "code",
   "execution_count": null,
   "id": "f1d1839c",
   "metadata": {},
   "outputs": [],
   "source": [
    "# Stop the models\n",
    "ac.stop(m1_id)\n",
    "ac.stop(m2_id)"
   ]
  }
 ],
 "metadata": {
  "interpreter": {
   "hash": "a4e15f636d375cde676b1a1c889053ee99561357f6fd296cf9e4c457fad780d8"
  },
  "kernelspec": {
   "display_name": "Python 3 (ipykernel)",
   "language": "python",
   "name": "python3"
  },
  "language_info": {
   "codemirror_mode": {
    "name": "ipython",
    "version": 3
   },
   "file_extension": ".py",
   "mimetype": "text/x-python",
   "name": "python",
   "nbconvert_exporter": "python",
   "pygments_lexer": "ipython3",
   "version": "3.7.10"
  }
 },
 "nbformat": 4,
 "nbformat_minor": 5
}
