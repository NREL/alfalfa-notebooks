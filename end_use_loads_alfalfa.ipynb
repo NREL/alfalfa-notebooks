{
 "cells": [
  {
   "cell_type": "markdown",
   "id": "dfae0c8b",
   "metadata": {},
   "source": [
    "# End Use Profiles to Alfalfa \n",
    "\n",
    "This notebook sets up the workflow to download models from the comsstock/resstock end use load profiles database, and creates folders that can be uploaded to Alfalfa."
   ]
  },
  {
   "cell_type": "code",
   "execution_count": 15,
   "id": "b60f9408",
   "metadata": {},
   "outputs": [
    {
     "name": "stdout",
     "output_type": "stream",
     "text": [
      "Collecting https://github.com/NREL/alfalfa.git@buildstock\n",
      "Note: you may need to restart the kernel to use updated packages.\n"
     ]
    },
    {
     "name": "stderr",
     "output_type": "stream",
     "text": [
      "  ERROR: HTTP error 404 while getting https://github.com/NREL/alfalfa.git@buildstock\n",
      "ERROR: Could not install requirement https://github.com/NREL/alfalfa.git@buildstock because of HTTP error 404 Client Error: Not Found for url: https://github.com/NREL/alfalfa.git@buildstock for URL https://github.com/NREL/alfalfa.git@buildstock\n"
     ]
    }
   ],
   "source": [
    "pip install https://github.com/NREL/alfalfa.git@buildstock"
   ]
  },
  {
   "cell_type": "code",
   "execution_count": 16,
   "id": "8c2de5cb",
   "metadata": {},
   "outputs": [],
   "source": [
    "import os\n",
    "import shutil\n",
    "import json\n",
    "import pandas\n",
    "import datetime\n",
    "import time\n",
    "from alfalfa_client.alfalfa_client import AlfalfaClient\n",
    "from pprint import pprint\n",
    "from pathlib import Path"
   ]
  },
  {
   "cell_type": "markdown",
   "id": "f892da4d",
   "metadata": {},
   "source": [
    "### Define alfalfa client object\n"
   ]
  },
  {
   "cell_type": "code",
   "execution_count": 17,
   "id": "97e6c517",
   "metadata": {},
   "outputs": [],
   "source": [
    "ac = AlfalfaClient(host='https://alfalfa-staging.nrel.gov')"
   ]
  },
  {
   "cell_type": "markdown",
   "id": "f10a562c",
   "metadata": {},
   "source": [
    "### Defining inputs\n",
    "#### Link to building models for comstock_tmy3_release_1\n",
    "https://data.openei.org/s3_viewer?bucket=oedi-data-lake&prefix=nrel-pds-building-stock%2Fend-use-load-profiles-for-us-building-stock%2F2021%2Fcomstock_tmy3_release_1%2Fbuilding_energy_models%2F\n",
    "#### Link to building models for resstock_tmy3_release_1\n",
    "https://data.openei.org/s3_viewer?bucket=oedi-data-lake&prefix=nrel-pds-building-stock%2Fend-use-load-profiles-for-us-building-stock%2F2021%2Fresstock_tmy3_release_1%2Fbuilding_energy_models%2F"
   ]
  },
  {
   "cell_type": "code",
   "execution_count": 19,
   "id": "83836f8d",
   "metadata": {},
   "outputs": [],
   "source": [
    "id = ['bldg0000001','bldg0000002']\n",
    "year = '2021'\n",
    "dataset_name = 'comstock_tmy3_release_1'\n",
    "upgrade = '00'\n",
    "# Folder name to download models\n",
    "folder = 'comstock'"
   ]
  },
  {
   "cell_type": "markdown",
   "id": "aeaea748",
   "metadata": {},
   "source": [
    "### Download models and weather file from buildstock to previously defined local folder"
   ]
  },
  {
   "cell_type": "code",
   "execution_count": 21,
   "id": "55224b3c",
   "metadata": {},
   "outputs": [
    {
     "ename": "ModuleNotFoundError",
     "evalue": "No module named 'alfalfa'",
     "output_type": "error",
     "traceback": [
      "\u001b[1;31m---------------------------------------------------------------------------\u001b[0m",
      "\u001b[1;31mModuleNotFoundError\u001b[0m                       Traceback (most recent call last)",
      "Cell \u001b[1;32mIn[21], line 1\u001b[0m\n\u001b[1;32m----> 1\u001b[0m \u001b[38;5;28;01mfrom\u001b[39;00m \u001b[38;5;21;01malfalfa\u001b[39;00m\u001b[38;5;21;01m.\u001b[39;00m\u001b[38;5;21;01mworkflow\u001b[39;00m\u001b[38;5;21;01m.\u001b[39;00m\u001b[38;5;21;01mlib\u001b[39;00m\u001b[38;5;21;01m.\u001b[39;00m\u001b[38;5;21;01minputs\u001b[39;00m \u001b[38;5;28;01mimport\u001b[39;00m Inputs\n\u001b[0;32m      2\u001b[0m \u001b[38;5;28;01mfrom\u001b[39;00m \u001b[38;5;21;01mworkflow\u001b[39;00m\u001b[38;5;21;01m.\u001b[39;00m\u001b[38;5;21;01mlib\u001b[39;00m\u001b[38;5;21;01m.\u001b[39;00m\u001b[38;5;21;01mmodels\u001b[39;00m \u001b[38;5;28;01mimport\u001b[39;00m Models\n\u001b[0;32m      4\u001b[0m objA \u001b[38;5;241m=\u001b[39m Inputs\n",
      "\u001b[1;31mModuleNotFoundError\u001b[0m: No module named 'alfalfa'"
     ]
    }
   ],
   "source": [
    "objA = Inputs\n",
    "objA.__init__(Inputs, year, dataset_name, upgrade, id,  folder_name)\n",
    "\n",
    "objB = Models\n",
    "objB.download_models(objA)"
   ]
  },
  {
   "cell_type": "markdown",
   "id": "1d848fef",
   "metadata": {},
   "source": [
    "### Upload models to Alfalfa\n",
    "\n",
    "Submit models to Alfalfa server\n"
   ]
  },
  {
   "cell_type": "code",
   "execution_count": 22,
   "id": "2256c5ba",
   "metadata": {},
   "outputs": [
    {
     "ename": "AttributeError",
     "evalue": "'str' object has no attribute 'iterdir'",
     "output_type": "error",
     "traceback": [
      "\u001b[1;31m---------------------------------------------------------------------------\u001b[0m",
      "\u001b[1;31mAttributeError\u001b[0m                            Traceback (most recent call last)",
      "Cell \u001b[1;32mIn[22], line 1\u001b[0m\n\u001b[1;32m----> 1\u001b[0m files \u001b[38;5;241m=\u001b[39m \u001b[38;5;28mlist\u001b[39m(item \u001b[38;5;28;01mfor\u001b[39;00m item \u001b[38;5;129;01min\u001b[39;00m \u001b[43mfolder\u001b[49m\u001b[38;5;241;43m.\u001b[39;49m\u001b[43miterdir\u001b[49m() \u001b[38;5;28;01mif\u001b[39;00m item\u001b[38;5;241m.\u001b[39mis_dir()) \n\u001b[0;32m      2\u001b[0m \u001b[38;5;28mprint\u001b[39m(\u001b[38;5;124mf\u001b[39m\u001b[38;5;124m\"\u001b[39m\u001b[38;5;124muploading \u001b[39m\u001b[38;5;132;01m{\u001b[39;00mfiles\u001b[38;5;132;01m}\u001b[39;00m\u001b[38;5;124m\"\u001b[39m) \n\u001b[0;32m      3\u001b[0m model_ids \u001b[38;5;241m=\u001b[39m ac\u001b[38;5;241m.\u001b[39msubmit(files) \n",
      "\u001b[1;31mAttributeError\u001b[0m: 'str' object has no attribute 'iterdir'"
     ]
    }
   ],
   "source": [
    "files = list(item for item in folder.iterdir() if item.is_dir())\n",
    "print(f\"uploading {files}\")\n",
    "model_ids = ac.submit(files)\n",
    "print(model_ids)\n"
   ]
  },
  {
   "cell_type": "markdown",
   "id": "79c10276",
   "metadata": {},
   "source": [
    "### Define Alfalfa simulation parameters\n",
    "\n",
    "- start_dt : This is the start date and time for the simulation in the following format (YYYY, M, D, H, M, S)\n",
    "- end_dt : This is the end date and time for the simulation in the following format (YYYY, M, D, H, M, S)\n",
    "- params : This defines the simulation parameters for the simulation including the start/end date and time and whether the model advances via API calls or a specified timescale\n",
    "    "
   ]
  },
  {
   "cell_type": "code",
   "execution_count": 23,
   "id": "414e3ec4",
   "metadata": {},
   "outputs": [],
   "source": [
    "# If you are using historian, you will need to search for this time period in Grafana dashboard to view results.\n",
    "start_dt = datetime.datetime(2023, 5, 10, 12, 2, 0)\n",
    "end_dt = datetime.datetime(2023, 5, 10, 12, 3, 0)\n",
    "\n",
    "# For external_clock == true, API calls are used to advance the model.\n",
    "# If external_clock == false, Alfalfa will handle advancing the model according to a specified timescale (timescale 1 => realtime)\n",
    "params = {\n",
    "    \"external_clock\": True,\n",
    "    \"start_datetime\": start_dt,\n",
    "    \"end_datetime\": end_dt\n",
    "}"
   ]
  },
  {
   "cell_type": "markdown",
   "id": "7f03fd7b",
   "metadata": {},
   "source": [
    "### Start simulations \n",
    "\n",
    "Start simulations as per the parameters defined"
   ]
  },
  {
   "cell_type": "code",
   "execution_count": null,
   "id": "36b8defd",
   "metadata": {},
   "outputs": [],
   "source": [
    "# Start Simulations\n",
    "print(f\"Starting site: {model_ids}\")\n",
    "ac.start(model_ids, **params)\n",
    "print('Done')"
   ]
  },
  {
   "cell_type": "markdown",
   "id": "47d2cb4f",
   "metadata": {},
   "source": [
    "### Set the model ID "
   ]
  },
  {
   "cell_type": "code",
   "execution_count": 28,
   "id": "e6917b00",
   "metadata": {},
   "outputs": [],
   "source": [
    "# set model ID\n",
    "model_id = '246077f0-566d-11ee-80a8-f546b406f534'"
   ]
  },
  {
   "cell_type": "markdown",
   "id": "e54e9d11",
   "metadata": {},
   "source": [
    "### Get the model's input points\n",
    "Get a list of all of the model's input points (EP Actuators)\n",
    "- model_id - the id of the site returned by the `ac.submit` function"
   ]
  },
  {
   "cell_type": "code",
   "execution_count": null,
   "id": "7bfc4eb1",
   "metadata": {},
   "outputs": [],
   "source": [
    "print(f\"{model_id} inputs:\")\n",
    "pprint(ac.get_inputs(model_id))"
   ]
  },
  {
   "cell_type": "markdown",
   "id": "8fdec00f",
   "metadata": {},
   "source": [
    "### Set model input point\n",
    "\n",
    "To set an input value use the `ac.set_inputs(model_id, inputs)` function.\n",
    "\n",
    "- `inputs_dict` - a dictionary of input names and the desired values"
   ]
  },
  {
   "cell_type": "code",
   "execution_count": null,
   "id": "8dcd5c8b",
   "metadata": {},
   "outputs": [],
   "source": [
    "input_dict = {'Zone_PVAV_with_PFP_Boxes_and_Reheat_1_Outside_Air_Damper_CMD': 10}\n",
    "ac.set_inputs(model_id, input_dict)\n",
    "print('Done')"
   ]
  },
  {
   "cell_type": "markdown",
   "id": "73e98939",
   "metadata": {},
   "source": [
    "### Advance the model\n",
    "12/10/2021: timestep is hardcoded to 1 minute w/in Alfalfa worker."
   ]
  },
  {
   "cell_type": "code",
   "execution_count": null,
   "id": "3ac8a1ff",
   "metadata": {},
   "outputs": [],
   "source": [
    "timesteps = 5\n",
    "for _ in range(timesteps):\n",
    "    ac.advance([model_id])\n",
    "    print(f\"Model advanced to time: {ac.get_sim_time(model_id)}\")\n",
    "\n",
    "print('Done')"
   ]
  },
  {
   "cell_type": "markdown",
   "id": "3e834273",
   "metadata": {},
   "source": [
    "### Get model's outputs\n",
    "Query the outputs (EP Sensors) of the models as well as their values"
   ]
  },
  {
   "cell_type": "code",
   "execution_count": null,
   "id": "8c4771b1",
   "metadata": {},
   "outputs": [],
   "source": [
    "print(f\"{model_id} outputs:\")\n",
    "\n",
    "# Print Simulation Time\n",
    "pprint(ac.get_sim_time(model_id))\n",
    "\n",
    "# Print output values\n",
    "pprint(ac.get_outputs(model_id))"
   ]
  },
  {
   "cell_type": "markdown",
   "id": "bbfa711c",
   "metadata": {},
   "source": [
    "### Stop the simulations"
   ]
  },
  {
   "cell_type": "code",
   "execution_count": null,
   "id": "423c8f05",
   "metadata": {},
   "outputs": [],
   "source": [
    "ac.stop(model_id)"
   ]
  }
 ],
 "metadata": {
  "kernelspec": {
   "display_name": "Python 3 (ipykernel)",
   "language": "python",
   "name": "python3"
  },
  "language_info": {
   "codemirror_mode": {
    "name": "ipython",
    "version": 3
   },
   "file_extension": ".py",
   "mimetype": "text/x-python",
   "name": "python",
   "nbconvert_exporter": "python",
   "pygments_lexer": "ipython3",
   "version": "3.10.9"
  }
 },
 "nbformat": 4,
 "nbformat_minor": 5
}
