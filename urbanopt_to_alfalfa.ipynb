{
 "cells": [
  {
   "cell_type": "markdown",
   "id": "dfae0c8b",
   "metadata": {},
   "source": [
    "# URBANopt to Alfalfa workflow \n",
    "\n",
    "This script uploads OpenStudio models created from an URBANopt simulation to Alfalfa. It also allows setting actuator values as inputs to the corresponding EnergyPlus models and receiving sensor values as outputs. Such a workflow will enable interacting with the building energy models during run-time and implementing control strategies within an district or community. Refer to the [URBANopt to Alfalfa](https://github.com/NREL/alfalfa/wiki/Running-URBANopt-models-in-Alfalfa) documentation for more details."
   ]
  },
  {
   "cell_type": "code",
   "execution_count": 1,
   "id": "8c2de5cb",
   "metadata": {},
   "outputs": [],
   "source": [
    "import os\n",
    "import shutil\n",
    "import json\n",
    "import pandas\n",
    "import datetime\n",
    "import time\n",
    "from alfalfa_client.alfalfa_client import AlfalfaClient\n",
    "from pprint import pprint\n",
    "from pathlib import Path"
   ]
  },
  {
   "cell_type": "markdown",
   "id": "f892da4d",
   "metadata": {},
   "source": [
    "### Define alfalfa client object\n"
   ]
  },
  {
   "cell_type": "code",
   "execution_count": 2,
   "id": "97e6c517",
   "metadata": {},
   "outputs": [],
   "source": [
    "ac = AlfalfaClient(host='https://alfalfa-staging.nrel.gov')"
   ]
  },
  {
   "cell_type": "markdown",
   "id": "f10a562c",
   "metadata": {},
   "source": [
    "### Create folders to upload to Alfalfa from the URBANopt Project\n",
    "\n",
    "The code below will create folders for each URBANopt building model that can be uploaded to Alfalfa. The folder contains: \n",
    "\n",
    "    - Model Folder: Contains OpenStudio model (.osm file) for each building created using the URBANopt simulation.\n",
    "    - Measures Folder: Measures to be added while running Alfalfa in the OpenStudio Workflow\n",
    "    - Weather Folder: Contains EPW weather file \n",
    "    - workflow.osw file: OpenStudio workflow file\n",
    "\n",
    "**Define the following variables before running the code**:\n",
    "\n",
    "- `uo_folder` : URBANopt Scenario Directory \n",
    "- `weather`: Define weather file used in URBANopt project\n",
    "- `workflow`: OpenStudio workflow file name"
   ]
  },
  {
   "cell_type": "code",
   "execution_count": 10,
   "id": "83836f8d",
   "metadata": {},
   "outputs": [
    {
     "name": "stdout",
     "output_type": "stream",
     "text": [
      "Folders saved at example_urbanopt_scenario_alfalfa\n",
      "Done\n"
     ]
    }
   ],
   "source": [
    "# Set URBANopt scenario directory\n",
    "uo_folder = Path('./example_urbanopt_project/run/example_urbanopt_scenario')\n",
    "\n",
    "uo_scenario_folder = uo_folder.name\n",
    "uo_scenario_path = Path(f\"./{uo_scenario_folder}_alfalfa\")\n",
    "if uo_scenario_path.exists():\n",
    "    shutil.rmtree(uo_scenario_path)\n",
    "uo_scenario_path.mkdir(parents=True, exist_ok=True)\n",
    "\n",
    "print(f\"Folders saved at {uo_scenario_path}\")\n",
    "\n",
    "# Add .epw filename\n",
    "weather = \"USA_CO_Denver.Intl.AP.725650_TMY3.epw\"\n",
    "\n",
    "# Add .osw filename\n",
    "workflow = \"workflow.osw\"\n",
    "\n",
    "for file in uo_folder.iterdir():\n",
    "        \n",
    "    if file.is_dir() and (file / 'in.osm').exists():\n",
    "        uo_model_filepath = uo_scenario_path / file.name\n",
    "        uo_model_filepath.mkdir(parents=True, exist_ok=True)\n",
    "        (uo_model_filepath / 'models').mkdir(parents=True, exist_ok=True)\n",
    "        (uo_model_filepath / 'measures').mkdir(parents=True, exist_ok=True)\n",
    "        (uo_model_filepath / 'weather').mkdir(parents=True, exist_ok=True)\n",
    "\n",
    "        shutil.copy((file / 'in.osm'), (uo_model_filepath / 'models' / f'{file.name}.osm'))\n",
    "        shutil.copy((uo_folder / '../../weather' / weather), (uo_model_filepath / 'weather'))\n",
    "    \n",
    "        osw = {\"seed_file\": f\"{file.name}.osm\",\n",
    "           \"weather_file\": f\"{weather}\",\n",
    "           \"measure_paths\": [\"./measures\"],\n",
    "           \"run_directory\": \"./run/\",\n",
    "           \"file_paths\": [\n",
    "               \"./weather/\",\n",
    "               \"./models/\"\n",
    "           ],\n",
    "            \"steps\" : [\n",
    "                {\n",
    "                    \"measure_dir_name\" : \"alfalfa_vars\",\n",
    "                    \"name\" : \"Alfalfa Variables\",\n",
    "                    \"description\" : \"Add custom variables for Alfalfa\",\n",
    "                    \"modeler_description\" : \"Add EMS global variables required by Alfalfa\",\n",
    "                    \"arguments\" : {\n",
    "                        \"model\" : f\"{file.name}.osm\"\n",
    "                    }\n",
    "                }\n",
    "            ]\n",
    "          }\n",
    "        \n",
    "        f = open((uo_model_filepath / workflow), \"w+\")\n",
    "        f.write(json.dumps(osw, indent=4))\n",
    "        f.close()\n",
    "\n",
    "print('Done')       "
   ]
  },
  {
   "cell_type": "code",
   "execution_count": 41,
   "id": "0f0541a4",
   "metadata": {},
   "outputs": [
    {
     "name": "stdout",
     "output_type": "stream",
     "text": [
      "done\n"
     ]
    }
   ],
   "source": [
    "model_path = './smalloffice'\n",
    "print('done')"
   ]
  },
  {
   "cell_type": "code",
   "execution_count": 42,
   "id": "3966c4f0",
   "metadata": {},
   "outputs": [
    {
     "name": "stdout",
     "output_type": "stream",
     "text": [
      "Desired status: ready\t\tCurrent status: preprocessing\n",
      "Desired status: ready\t\tCurrent status: ready\n",
      "./smalloffice\n"
     ]
    }
   ],
   "source": [
    "model_id = ac.submit(model_path) \n",
    "print(model_path)"
   ]
  },
  {
   "cell_type": "markdown",
   "id": "1d848fef",
   "metadata": {},
   "source": [
    "### Upload models to Alfalfa\n",
    "\n",
    "Submit models to Alfalfa server\n"
   ]
  },
  {
   "cell_type": "code",
   "execution_count": 11,
   "id": "2256c5ba",
   "metadata": {},
   "outputs": [
    {
     "name": "stdout",
     "output_type": "stream",
     "text": [
      "uploading [WindowsPath('example_urbanopt_scenario_alfalfa/61'), WindowsPath('example_urbanopt_scenario_alfalfa/62'), WindowsPath('example_urbanopt_scenario_alfalfa/63')]\n",
      "Desired status: ready\t\tCurrent status: preprocessing\n",
      "Desired status: ready\t\tCurrent status: preprocessing\n",
      "Desired status: ready\t\tCurrent status: preprocessing\n",
      "Desired status: ready\t\tCurrent status: ready\n",
      "Desired status: ready\t\tCurrent status: ready\n",
      "Desired status: ready\t\tCurrent status: ready\n",
      "['758c4580-5345-11ee-80a8-f546b406f534', '7590b250-5345-11ee-80a8-f546b406f534', '758fc7f0-5345-11ee-80a8-f546b406f534']\n"
     ]
    }
   ],
   "source": [
    "files = list(uo_scenario_path.iterdir()) \n",
    "print(f\"uploading {files}\") \n",
    "model_ids = ac.submit(files) \n",
    "print(model_ids)\n"
   ]
  },
  {
   "cell_type": "markdown",
   "id": "79c10276",
   "metadata": {},
   "source": [
    "### Define Alfalfa simulation parameters\n",
    "\n",
    "- start_dt : This is the start date and time for the simulation in the following format (YYYY, M, D, H, M, S)\n",
    "- end_dt : This is the end date and time for the simulation in the following format (YYYY, M, D, H, M, S)\n",
    "- params : This defines the simulation parameters for the simulation including the start/end date and time and whether the model advances via API calls or a specified timescale\n",
    "    "
   ]
  },
  {
   "cell_type": "code",
   "execution_count": 12,
   "id": "414e3ec4",
   "metadata": {},
   "outputs": [],
   "source": [
    "# If you are using historian, you will need to search for this time period in Grafana dashboard to view results.\n",
    "start_dt = datetime.datetime(2023, 5, 10, 12, 2, 0)\n",
    "end_dt = datetime.datetime(2023, 5, 10, 12, 3, 0)\n",
    "\n",
    "# For external_clock == true, API calls are used to advance the model.  \n",
    "# If external_clock == false, Alfalfa will handle advancing the model according to a specified timescale (timescale 1 => realtime)\n",
    "params = {\n",
    "    \"external_clock\": True,\n",
    "    \"start_datetime\": start_dt,\n",
    "    \"end_datetime\": end_dt,\n",
    "    \"timescale\": 30\n",
    "}"
   ]
  },
  {
   "cell_type": "code",
   "execution_count": 8,
   "id": "8c50176a",
   "metadata": {},
   "outputs": [
    {
     "ename": "NameError",
     "evalue": "name 'model_id' is not defined",
     "output_type": "error",
     "traceback": [
      "\u001b[1;31m---------------------------------------------------------------------------\u001b[0m",
      "\u001b[1;31mNameError\u001b[0m                                 Traceback (most recent call last)",
      "Cell \u001b[1;32mIn[8], line 2\u001b[0m\n\u001b[0;32m      1\u001b[0m \u001b[38;5;66;03m# Start Simulations\u001b[39;00m\n\u001b[1;32m----> 2\u001b[0m \u001b[38;5;28mprint\u001b[39m(\u001b[38;5;124mf\u001b[39m\u001b[38;5;124m\"\u001b[39m\u001b[38;5;124mStarting site: \u001b[39m\u001b[38;5;132;01m{\u001b[39;00m\u001b[43mmodel_id\u001b[49m\u001b[38;5;132;01m}\u001b[39;00m\u001b[38;5;124m\"\u001b[39m) \n\u001b[0;32m      3\u001b[0m ac\u001b[38;5;241m.\u001b[39mstart(model_id, \u001b[38;5;241m*\u001b[39m\u001b[38;5;241m*\u001b[39mparams)\n\u001b[0;32m      4\u001b[0m \u001b[38;5;28mprint\u001b[39m(\u001b[38;5;124m'\u001b[39m\u001b[38;5;124mDone\u001b[39m\u001b[38;5;124m'\u001b[39m)\n",
      "\u001b[1;31mNameError\u001b[0m: name 'model_id' is not defined"
     ]
    }
   ],
   "source": [
    "# Start Simulations\n",
    "print(f\"Starting site: {model_id}\") \n",
    "ac.start(model_id, **params)\n",
    "print('Done')"
   ]
  },
  {
   "cell_type": "markdown",
   "id": "7f03fd7b",
   "metadata": {},
   "source": [
    "### Start simulations \n",
    "\n",
    "Start simulations as per the parameters defined"
   ]
  },
  {
   "cell_type": "code",
   "execution_count": 13,
   "id": "36b8defd",
   "metadata": {},
   "outputs": [
    {
     "name": "stdout",
     "output_type": "stream",
     "text": [
      "Starting site: ['758c4580-5345-11ee-80a8-f546b406f534', '7590b250-5345-11ee-80a8-f546b406f534', '758fc7f0-5345-11ee-80a8-f546b406f534']\n",
      "Desired status: running\t\tCurrent status: ready\n",
      "Desired status: running\t\tCurrent status: ready\n",
      "Desired status: running\t\tCurrent status: ready\n",
      "Desired status: running\t\tCurrent status: startedDesired status: running\t\tCurrent status: started\n",
      "\n",
      "Desired status: running\t\tCurrent status: started\n",
      "Desired status: running\t\tCurrent status: running\n",
      "Desired status: running\t\tCurrent status: running\n",
      "Desired status: running\t\tCurrent status: running\n",
      "Done\n"
     ]
    }
   ],
   "source": [
    "# Start Simulations\n",
    "print(f\"Starting site: {model_ids}\") \n",
    "ac.start(model_ids, **params)\n",
    "print('Done')"
   ]
  },
  {
   "cell_type": "markdown",
   "id": "47d2cb4f",
   "metadata": {},
   "source": [
    "### Get the model's input points\n",
    "Get a list of all of the model's input points (EP Actuators)\n",
    "- model_id - the id of the site returned by the `ac.submit` function\n"
   ]
  },
  {
   "cell_type": "code",
   "execution_count": 16,
   "id": "e6917b00",
   "metadata": {},
   "outputs": [
    {
     "name": "stdout",
     "output_type": "stream",
     "text": [
      "758fc7f0-5345-11ee-80a8-f546b406f534 inputs:\n",
      "['MasterEnable',\n",
      " 'Zone_PVAV_with_PFP_Boxes_and_Reheat_1_Outside_Air_Damper_CMD',\n",
      " 'Zone_PVAV_with_PFP_Boxes_and_Reheat_2_Outside_Air_Damper_CMD',\n",
      " 'Zone_PVAV_with_PFP_Boxes_and_Reheat_3_Outside_Air_Damper_CMD',\n",
      " 'Zone_PVAV_with_PFP_Boxes_and_Reheat_4_Outside_Air_Damper_CMD',\n",
      " 'Zone_PVAV_with_PFP_Boxes_and_Reheat_Outside_Air_Damper_CMD',\n",
      " 'OfficeMedium HTGSETP_SCH_YES_OPTIMUM',\n",
      " 'OfficeMedium CLGSETP_SCH_YES_OPTIMUM']\n"
     ]
    }
   ],
   "source": [
    "# set model ID \n",
    "model_id = '758fc7f0-5345-11ee-80a8-f546b406f534'\n",
    "print(f\"{model_id} inputs:\") \n",
    "pprint(ac.get_inputs(model_id))"
   ]
  },
  {
   "cell_type": "markdown",
   "id": "8fdec00f",
   "metadata": {},
   "source": [
    "### Set model input point\n",
    "\n",
    "To set an input value use the `ac.set_inputs(model_id, inputs)` function.\n",
    "\n",
    "- `inputs_dict` - a dictionary of input names and the desired values"
   ]
  },
  {
   "cell_type": "code",
   "execution_count": 17,
   "id": "8dcd5c8b",
   "metadata": {},
   "outputs": [
    {
     "name": "stdout",
     "output_type": "stream",
     "text": [
      "Done\n"
     ]
    }
   ],
   "source": [
    "input_dict = {'Zone_PVAV_with_PFP_Boxes_and_Reheat_1_Outside_Air_Damper_CMD': 10}\n",
    "ac.set_inputs(model_id, input_dict)\n",
    "print('Done')"
   ]
  },
  {
   "cell_type": "markdown",
   "id": "73e98939",
   "metadata": {},
   "source": [
    "### Advance the model\n",
    "12/10/2021: timestep is hardcoded to 1 minute w/in Alfalfa worker."
   ]
  },
  {
   "cell_type": "code",
   "execution_count": null,
   "id": "3ac8a1ff",
   "metadata": {},
   "outputs": [],
   "source": [
    "timesteps = 5\n",
    "for _ in range(timesteps):\n",
    "    ac.advance([model_id])\n",
    "    print(f\"Model advanced to time: {ac.get_sim_time(model_id)}\")\n",
    "\n",
    "print('Done')"
   ]
  },
  {
   "cell_type": "markdown",
   "id": "3e834273",
   "metadata": {},
   "source": [
    "### Get model's outputs\n",
    "Query the outputs (EP Sensors) of the models as well as their values"
   ]
  },
  {
   "cell_type": "code",
   "execution_count": 18,
   "id": "8c4771b1",
   "metadata": {},
   "outputs": [
    {
     "name": "stdout",
     "output_type": "stream",
     "text": [
      "758fc7f0-5345-11ee-80a8-f546b406f534 outputs:\n",
      "{'Building Story 1 ThermalZone 1 Air Temperature': 24,\n",
      " 'Building Story 1 ThermalZone 1 Humidity': 20.4146964726179,\n",
      " 'Building Story 1 ThermalZone 1 Temperature Setpoint': 24,\n",
      " 'Building Story 1 ThermalZone 2 Air Temperature': 24,\n",
      " 'Building Story 1 ThermalZone 2 Humidity': 21.95665528500485,\n",
      " 'Building Story 1 ThermalZone 2 Temperature Setpoint': 24,\n",
      " 'Building Story 1 ThermalZone 3 Air Temperature': 23.72126645674773,\n",
      " 'Building Story 1 ThermalZone 3 Humidity': 21.90754018521439,\n",
      " 'Building Story 1 ThermalZone 3 Temperature Setpoint': 23.71638567600263,\n",
      " 'Building Story 1 ThermalZone 4 Air Temperature': 24,\n",
      " 'Building Story 1 ThermalZone 4 Humidity': 19.95789269185017,\n",
      " 'Building Story 1 ThermalZone 4 Temperature Setpoint': 24,\n",
      " 'Building Story 1 ThermalZone 5 Air Temperature': 23.16152874619545,\n",
      " 'Building Story 1 ThermalZone 5 Humidity': 22.78159382855611,\n",
      " 'Building Story 1 ThermalZone 5 Temperature Setpoint': 23.1558779523121,\n",
      " 'Building Story 1 ThermalZone 6 Air Temperature': 24,\n",
      " 'Building Story 1 ThermalZone 6 Humidity': 19.94793880611284,\n",
      " 'Building Story 1 ThermalZone 6 Temperature Setpoint': 24,\n",
      " 'Building Story 1 ThermalZone Air Temperature': 21.56222432706884,\n",
      " 'Building Story 1 ThermalZone Humidity': 27.14217757461806,\n",
      " 'Building Story 1 ThermalZone Temperature Setpoint': 21.56105371443961,\n",
      " 'Building Story 2 ThermalZone 1 Air Temperature': 24,\n",
      " 'Building Story 2 ThermalZone 1 Humidity': 22.16386083536566,\n",
      " 'Building Story 2 ThermalZone 1 Temperature Setpoint': 24,\n",
      " 'Building Story 2 ThermalZone 2 Air Temperature': 24,\n",
      " 'Building Story 2 ThermalZone 2 Humidity': 22.08578129448822,\n",
      " 'Building Story 2 ThermalZone 2 Temperature Setpoint': 24,\n",
      " 'Building Story 2 ThermalZone 3 Air Temperature': 24,\n",
      " 'Building Story 2 ThermalZone 3 Humidity': 22.00709467190298,\n",
      " 'Building Story 2 ThermalZone 3 Temperature Setpoint': 24,\n",
      " 'Building Story 2 ThermalZone 4 Air Temperature': 24,\n",
      " 'Building Story 2 ThermalZone 4 Humidity': 22.16932848852785,\n",
      " 'Building Story 2 ThermalZone 4 Temperature Setpoint': 24,\n",
      " 'Building Story 2 ThermalZone 5 Air Temperature': 24,\n",
      " 'Building Story 2 ThermalZone 5 Humidity': 22.07880391880398,\n",
      " 'Building Story 2 ThermalZone 5 Temperature Setpoint': 24,\n",
      " 'Building Story 2 ThermalZone 6 Air Temperature': 24,\n",
      " 'Building Story 2 ThermalZone 6 Humidity': 22.15991847857385,\n",
      " 'Building Story 2 ThermalZone 6 Temperature Setpoint': 24,\n",
      " 'Building Story 2 ThermalZone Air Temperature': 24,\n",
      " 'Building Story 2 ThermalZone Humidity': 23.04417945396185,\n",
      " 'Building Story 2 ThermalZone Temperature Setpoint': 24,\n",
      " 'Building Story 3 ThermalZone 1 Air Temperature': 24,\n",
      " 'Building Story 3 ThermalZone 1 Humidity': 22.02106856625003,\n",
      " 'Building Story 3 ThermalZone 1 Temperature Setpoint': 24,\n",
      " 'Building Story 3 ThermalZone 2 Air Temperature': 24,\n",
      " 'Building Story 3 ThermalZone 2 Humidity': 21.92668361082267,\n",
      " 'Building Story 3 ThermalZone 2 Temperature Setpoint': 24,\n",
      " 'Building Story 3 ThermalZone 3 Air Temperature': 24,\n",
      " 'Building Story 3 ThermalZone 3 Humidity': 21.83240166009845,\n",
      " 'Building Story 3 ThermalZone 3 Temperature Setpoint': 24,\n",
      " 'Building Story 3 ThermalZone 4 Air Temperature': 24,\n",
      " 'Building Story 3 ThermalZone 4 Humidity': 22.02224706826334,\n",
      " 'Building Story 3 ThermalZone 4 Temperature Setpoint': 24,\n",
      " 'Building Story 3 ThermalZone 5 Air Temperature': 24,\n",
      " 'Building Story 3 ThermalZone 5 Humidity': 21.89957444968055,\n",
      " 'Building Story 3 ThermalZone 5 Temperature Setpoint': 24,\n",
      " 'Building Story 3 ThermalZone 6 Air Temperature': 24,\n",
      " 'Building Story 3 ThermalZone 6 Humidity': 22.02138311338039,\n",
      " 'Building Story 3 ThermalZone 6 Temperature Setpoint': 24,\n",
      " 'Building Story 3 ThermalZone Air Temperature': 24,\n",
      " 'Building Story 3 ThermalZone Humidity': 22.91066030336274,\n",
      " 'Building Story 3 ThermalZone Temperature Setpoint': 24,\n",
      " 'Building Story 4 ThermalZone 1 Air Temperature': 24,\n",
      " 'Building Story 4 ThermalZone 1 Humidity': 21.93111815611177,\n",
      " 'Building Story 4 ThermalZone 1 Temperature Setpoint': 24,\n",
      " 'Building Story 4 ThermalZone 2 Air Temperature': 24,\n",
      " 'Building Story 4 ThermalZone 2 Humidity': 21.88236998061598,\n",
      " 'Building Story 4 ThermalZone 2 Temperature Setpoint': 24,\n",
      " 'Building Story 4 ThermalZone 3 Air Temperature': 24,\n",
      " 'Building Story 4 ThermalZone 3 Humidity': 21.75620294471443,\n",
      " 'Building Story 4 ThermalZone 3 Temperature Setpoint': 24,\n",
      " 'Building Story 4 ThermalZone 4 Air Temperature': 24,\n",
      " 'Building Story 4 ThermalZone 4 Humidity': 21.95399701963283,\n",
      " 'Building Story 4 ThermalZone 4 Temperature Setpoint': 24,\n",
      " 'Building Story 4 ThermalZone 5 Air Temperature': 24,\n",
      " 'Building Story 4 ThermalZone 5 Humidity': 21.78629894305278,\n",
      " 'Building Story 4 ThermalZone 5 Temperature Setpoint': 24,\n",
      " 'Building Story 4 ThermalZone 6 Air Temperature': 24,\n",
      " 'Building Story 4 ThermalZone 6 Humidity': 21.9567844204877,\n",
      " 'Building Story 4 ThermalZone 6 Temperature Setpoint': 24,\n",
      " 'Building Story 4 ThermalZone Air Temperature': 24,\n",
      " 'Building Story 4 ThermalZone Humidity': 22.83160477835357,\n",
      " 'Building Story 4 ThermalZone Temperature Setpoint': 24,\n",
      " 'Building Story 5 ThermalZone 1 Air Temperature': 24,\n",
      " 'Building Story 5 ThermalZone 1 Humidity': 22.10706776913482,\n",
      " 'Building Story 5 ThermalZone 1 Temperature Setpoint': 24,\n",
      " 'Building Story 5 ThermalZone 2 Air Temperature': 24,\n",
      " 'Building Story 5 ThermalZone 2 Humidity': 22.10139681859046,\n",
      " 'Building Story 5 ThermalZone 2 Temperature Setpoint': 24,\n",
      " 'Building Story 5 ThermalZone 3 Air Temperature': 24,\n",
      " 'Building Story 5 ThermalZone 3 Humidity': 22.11443637628052,\n",
      " 'Building Story 5 ThermalZone 3 Temperature Setpoint': 24,\n",
      " 'Building Story 5 ThermalZone 4 Air Temperature': 24,\n",
      " 'Building Story 5 ThermalZone 4 Humidity': 22.10751179135832,\n",
      " 'Building Story 5 ThermalZone 4 Temperature Setpoint': 24,\n",
      " 'Building Story 5 ThermalZone 5 Air Temperature': 24,\n",
      " 'Building Story 5 ThermalZone 5 Humidity': 22.16263397058363,\n",
      " 'Building Story 5 ThermalZone 5 Temperature Setpoint': 24,\n",
      " 'Building Story 5 ThermalZone 6 Air Temperature': 24,\n",
      " 'Building Story 5 ThermalZone 6 Humidity': 22.10711801092604,\n",
      " 'Building Story 5 ThermalZone 6 Temperature Setpoint': 24,\n",
      " 'Building Story 5 ThermalZone Air Temperature': 24,\n",
      " 'Building Story 5 ThermalZone Humidity': 22.54909075974868,\n",
      " 'Building Story 5 ThermalZone Temperature Setpoint': 24,\n",
      " 'OfficeMedium CLGSETP_SCH_YES_OPTIMUM': 24,\n",
      " 'OfficeMedium HTGSETP_SCH_YES_OPTIMUM': 21,\n",
      " 'Whole Building Electricity': 11817502.52951798,\n",
      " 'Zone PVAV with PFP Boxes and Reheat 1 Discharge Air Flow Sensor': 4.58409159427352,\n",
      " 'Zone PVAV with PFP Boxes and Reheat 1 Discharge Air Temp Sensor': 15.557518574926,\n",
      " 'Zone PVAV with PFP Boxes and Reheat 1 Exhaust Air Flow Sensor': 0.8494040350094848,\n",
      " 'Zone PVAV with PFP Boxes and Reheat 1 Exhaust Air Temp Sensor': 23.99999999999999,\n",
      " 'Zone PVAV with PFP Boxes and Reheat 1 Mixed Air Flow Sensor': 4.58409159427352,\n",
      " 'Zone PVAV with PFP Boxes and Reheat 1 Mixed Air Temp Sensor': 24.80030119266228,\n",
      " 'Zone PVAV with PFP Boxes and Reheat 1 Outside Air Damper Sensor': 0.1852938619443308,\n",
      " 'Zone PVAV with PFP Boxes and Reheat 1 Outside Air Flow Sensor': 0.8494040350094848,\n",
      " 'Zone PVAV with PFP Boxes and Reheat 1 Outside Air Temp Sensor': 28.32,\n",
      " 'Zone PVAV with PFP Boxes and Reheat 1 Return Air Flow Sensor': 4.58409159427352,\n",
      " 'Zone PVAV with PFP Boxes and Reheat 1 Return Air Temp Sensor': 23.99999999999999,\n",
      " 'Zone PVAV with PFP Boxes and Reheat 2 Discharge Air Flow Sensor': 4.577161423104312,\n",
      " 'Zone PVAV with PFP Boxes and Reheat 2 Discharge Air Temp Sensor': 15.55661440215044,\n",
      " 'Zone PVAV with PFP Boxes and Reheat 2 Exhaust Air Flow Sensor': 0.8537900269974467,\n",
      " 'Zone PVAV with PFP Boxes and Reheat 2 Exhaust Air Temp Sensor': 24,\n",
      " 'Zone PVAV with PFP Boxes and Reheat 2 Mixed Air Flow Sensor': 4.577161423104312,\n",
      " 'Zone PVAV with PFP Boxes and Reheat 2 Mixed Air Temp Sensor': 24.80569183171595,\n",
      " 'Zone PVAV with PFP Boxes and Reheat 2 Outside Air Damper Sensor': 0.1865326450336093,\n",
      " 'Zone PVAV with PFP Boxes and Reheat 2 Outside Air Flow Sensor': 0.8537900269974467,\n",
      " 'Zone PVAV with PFP Boxes and Reheat 2 Outside Air Temp Sensor': 28.32,\n",
      " 'Zone PVAV with PFP Boxes and Reheat 2 Return Air Flow Sensor': 4.577161423104312,\n",
      " 'Zone PVAV with PFP Boxes and Reheat 2 Return Air Temp Sensor': 24,\n",
      " 'Zone PVAV with PFP Boxes and Reheat 3 Discharge Air Flow Sensor': 4.702073336171702,\n",
      " 'Zone PVAV with PFP Boxes and Reheat 3 Discharge Air Temp Sensor': 15.55668973857975,\n",
      " 'Zone PVAV with PFP Boxes and Reheat 3 Exhaust Air Flow Sensor': 0.8511574011285158,\n",
      " 'Zone PVAV with PFP Boxes and Reheat 3 Exhaust Air Temp Sensor': 24,\n",
      " 'Zone PVAV with PFP Boxes and Reheat 3 Mixed Air Flow Sensor': 4.702073336171702,\n",
      " 'Zone PVAV with PFP Boxes and Reheat 3 Mixed Air Temp Sensor': 24.7818944475154,\n",
      " 'Zone PVAV with PFP Boxes and Reheat 3 Outside Air Damper Sensor': 0.181017466184716,\n",
      " 'Zone PVAV with PFP Boxes and Reheat 3 Outside Air Flow Sensor': 0.8511574011285158,\n",
      " 'Zone PVAV with PFP Boxes and Reheat 3 Outside Air Temp Sensor': 28.32,\n",
      " 'Zone PVAV with PFP Boxes and Reheat 3 Return Air Flow Sensor': 4.702073336171702,\n",
      " 'Zone PVAV with PFP Boxes and Reheat 3 Return Air Temp Sensor': 24,\n",
      " 'Zone PVAV with PFP Boxes and Reheat 4 Discharge Air Flow Sensor': 5.167899350574585,\n",
      " 'Zone PVAV with PFP Boxes and Reheat 4 Discharge Air Temp Sensor': 15.5562844290216,\n",
      " 'Zone PVAV with PFP Boxes and Reheat 4 Exhaust Air Flow Sensor': 0.8652875519212436,\n",
      " 'Zone PVAV with PFP Boxes and Reheat 4 Exhaust Air Temp Sensor': 24,\n",
      " 'Zone PVAV with PFP Boxes and Reheat 4 Mixed Air Flow Sensor': 5.167899350574585,\n",
      " 'Zone PVAV with PFP Boxes and Reheat 4 Mixed Air Temp Sensor': 24.72322247556018,\n",
      " 'Zone PVAV with PFP Boxes and Reheat 4 Outside Air Damper Sensor': 0.1674350627252518,\n",
      " 'Zone PVAV with PFP Boxes and Reheat 4 Outside Air Flow Sensor': 0.8652875519212436,\n",
      " 'Zone PVAV with PFP Boxes and Reheat 4 Outside Air Temp Sensor': 28.32,\n",
      " 'Zone PVAV with PFP Boxes and Reheat 4 Return Air Flow Sensor': 5.167899350574585,\n",
      " 'Zone PVAV with PFP Boxes and Reheat 4 Return Air Temp Sensor': 24,\n",
      " 'Zone PVAV with PFP Boxes and Reheat Discharge Air Flow Sensor': 1.404403069852915,\n",
      " 'Zone PVAV with PFP Boxes and Reheat Discharge Air Temp Sensor': 15.55558146346073,\n",
      " 'Zone PVAV with PFP Boxes and Reheat Exhaust Air Flow Sensor': 1.273880421445068,\n",
      " 'Zone PVAV with PFP Boxes and Reheat Exhaust Air Temp Sensor': 23.01093431961376,\n",
      " 'Zone PVAV with PFP Boxes and Reheat Mixed Air Flow Sensor': 1.404403069852915,\n",
      " 'Zone PVAV with PFP Boxes and Reheat Mixed Air Temp Sensor': 27.82664109364713,\n",
      " 'Zone PVAV with PFP Boxes and Reheat Outside Air Damper Sensor': 0.9070618320269573,\n",
      " 'Zone PVAV with PFP Boxes and Reheat Outside Air Flow Sensor': 1.273880421445068,\n",
      " 'Zone PVAV with PFP Boxes and Reheat Outside Air Temp Sensor': 28.32,\n",
      " 'Zone PVAV with PFP Boxes and Reheat Return Air Flow Sensor': 1.404403069852915,\n",
      " 'Zone PVAV with PFP Boxes and Reheat Return Air Temp Sensor': 23.01093431961376}\n"
     ]
    }
   ],
   "source": [
    "print(f\"{model_id} outputs:\")\n",
    "pprint(ac.get_outputs(model_id))"
   ]
  },
  {
   "cell_type": "markdown",
   "id": "bbfa711c",
   "metadata": {},
   "source": [
    "### Stop the simulations"
   ]
  },
  {
   "cell_type": "code",
   "execution_count": null,
   "id": "423c8f05",
   "metadata": {},
   "outputs": [],
   "source": [
    "ac.stop(model_id)"
   ]
  }
 ],
 "metadata": {
  "kernelspec": {
   "display_name": "Python 3 (ipykernel)",
   "language": "python",
   "name": "python3"
  },
  "language_info": {
   "codemirror_mode": {
    "name": "ipython",
    "version": 3
   },
   "file_extension": ".py",
   "mimetype": "text/x-python",
   "name": "python",
   "nbconvert_exporter": "python",
   "pygments_lexer": "ipython3",
   "version": "3.10.9"
  }
 },
 "nbformat": 4,
 "nbformat_minor": 5
}
