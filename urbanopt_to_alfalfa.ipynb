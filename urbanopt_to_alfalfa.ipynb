{
 "cells": [
  {
   "attachments": {},
   "cell_type": "markdown",
   "id": "dfae0c8b",
   "metadata": {},
   "source": [
    "# URBANopt to Alfalfa workflow \n",
    "\n",
    "This script uploads OpenStudio models created from an URBANopt simulation to Alfalfa. It also allows setting actuator values as inputs to the corresponding EnergyPlus models and receiving sensor values as outputs. Such a workflow will enable interacting with the building energy models during run-time and implementing control strategies within an district or community. Refer to the [URBANopt to Alfalfa](https://github.com/NREL/alfalfa/wiki/Running-URBANopt-models-in-Alfalfa) documentation for more details."
   ]
  },
  {
   "cell_type": "code",
   "execution_count": null,
   "id": "8c2de5cb",
   "metadata": {},
   "outputs": [],
   "source": [
    "import os\n",
    "import shutil\n",
    "import json\n",
    "import pandas\n",
    "import datetime\n",
    "import time\n",
    "from alfalfa_client.alfalfa_client import AlfalfaClient\n",
    "from pprint import pprint\n",
    "from pathlib import Path"
   ]
  },
  {
   "attachments": {},
   "cell_type": "markdown",
   "id": "f892da4d",
   "metadata": {},
   "source": [
    "### Define alfalfa client object\n"
   ]
  },
  {
   "cell_type": "code",
   "execution_count": null,
   "id": "97e6c517",
   "metadata": {},
   "outputs": [],
   "source": [
    "ac = AlfalfaClient(host='https://cctwin.nrel.gov')"
   ]
  },
  {
   "attachments": {},
   "cell_type": "markdown",
   "id": "f10a562c",
   "metadata": {},
   "source": [
    "### Create folders to upload to Alfalfa from the URBANopt Project\n",
    "\n",
    "The code below will create folders for each URBANopt building model that can be uploaded to Alfalfa. The folder contains: \n",
    "\n",
    "    - Model Folder: Contains OpenStudio model (.osm file) for each building created using the URBANopt simulation.\n",
    "    - Measures Folder: Measures to be added while running Alfalfa in the OpenStudio Workflow\n",
    "    - Weather Folder: Contains EPW weather file \n",
    "    - workflow.osw file: OpenStudio workflow file\n",
    "\n",
    "**Define the following variables before running the code**:\n",
    "\n",
    "- `uo_folder` : URBANopt Scenario Directory \n",
    "- `weather`: Define weather file used in URBANopt project\n",
    "- `workflow`: OpenStudio workflow file name"
   ]
  },
  {
   "cell_type": "code",
   "execution_count": null,
   "id": "83836f8d",
   "metadata": {},
   "outputs": [],
   "source": [
    "# Set URBANopt scenario directory\n",
    "uo_folder = Path('./example_urbanopt_project/run/example_urbanopt_scenario')\n",
    "\n",
    "uo_scenario_folder = uo_folder.name\n",
    "uo_scenario_path = Path(f\"./{uo_scenario_folder}_alfalfa\")\n",
    "if uo_scenario_path.exists:\n",
    "    shutil.rmtree(uo_scenario_path)\n",
    "uo_scenario_path.mkdir(parents=True, exist_ok=True)\n",
    "\n",
    "print(f\"Folders saved at {uo_scenario_path}\")\n",
    "\n",
    "# Add .epw filename\n",
    "weather = \"USA_NY_Buffalo-Greater.Buffalo.Intl.AP.725280_TMY3.epw\"\n",
    "\n",
    "# Add .osw filename\n",
    "workflow = \"workflow.osw\"\n",
    "\n",
    "for file in uo_folder.iterdir():\n",
    "        \n",
    "    if file.is_dir() and (file / 'in.osm').exists():\n",
    "        uo_model_filepath = uo_scenario_path / file.name\n",
    "        uo_model_filepath.mkdir(parents=True, exist_ok=True)\n",
    "        (uo_model_filepath / 'models').mkdir(parents=True, exist_ok=True)\n",
    "        (uo_model_filepath / 'measures').mkdir(parents=True, exist_ok=True)\n",
    "        (uo_model_filepath / 'weather').mkdir(parents=True, exist_ok=True)\n",
    "\n",
    "        shutil.copy((file / 'in.osm'), (uo_model_filepath / 'models' / f'{file.name}.osm'))\n",
    "        shutil.copy((uo_folder / '../../weather' / weather), (uo_model_filepath / 'weather'))\n",
    "    \n",
    "        osw = {\"seed_file\": f\"{file.name}.osm\",\n",
    "           \"weather_file\": f\"{weather}\",\n",
    "           \"measure_paths\": [\"./measures\"],\n",
    "           \"run_directory\": \"./run/\",\n",
    "           \"file_paths\": [\n",
    "               \"./weather/\",\n",
    "               \"./models/\"\n",
    "           ]\n",
    "          }\n",
    "        \n",
    "        f = open((uo_model_filepath / workflow), \"w+\")\n",
    "        f.write(json.dumps(osw, indent=4))\n",
    "        f.close()\n",
    "\n",
    "print('Done')       "
   ]
  },
  {
   "attachments": {},
   "cell_type": "markdown",
   "id": "1d848fef",
   "metadata": {},
   "source": [
    "### Upload models to Alfalfa\n",
    "\n",
    "Submit models to Alfalfa server\n"
   ]
  },
  {
   "cell_type": "code",
   "execution_count": null,
   "id": "2256c5ba",
   "metadata": {},
   "outputs": [],
   "source": [
    "files = list(uo_scenario_path.iterdir()) \n",
    "print(f\"uploading {files}\") \n",
    "model_ids = ac.submit(files) \n",
    "print(model_ids)\n"
   ]
  },
  {
   "attachments": {},
   "cell_type": "markdown",
   "id": "79c10276",
   "metadata": {},
   "source": [
    "### Define Alfalfa simulation parameters\n",
    "\n",
    "- start_dt : This is the start date and time for the simulation in the following format (YYYY, M, D, H, M, S)\n",
    "- end_dt : This is the end date and time for the simulation in the following format (YYYY, M, D, H, M, S)\n",
    "- params : This defines the simulation parameters for the simulation including the start/end date and time and whether the model advances via API calls or a specified timescale\n",
    "    "
   ]
  },
  {
   "cell_type": "code",
   "execution_count": null,
   "id": "414e3ec4",
   "metadata": {},
   "outputs": [],
   "source": [
    "# If you are using historian, you will need to search for this time period in Grafana dashboard to view results.\n",
    "start_dt = datetime.datetime(2023, 5, 10, 12, 2, 0)\n",
    "end_dt = datetime.datetime(2023, 5, 10, 12, 3, 0)\n",
    "\n",
    "# For external_clock == true, API calls are used to advance the model.  \n",
    "# If external_clock == false, Alfalfa will handle advancing the model according to a specified timescale (timescale 1 => realtime)\n",
    "params = {\n",
    "    \"external_clock\": True,\n",
    "    \"start_datetime\": start_dt,\n",
    "    \"end_datetime\": end_dt,\n",
    "}"
   ]
  },
  {
   "attachments": {},
   "cell_type": "markdown",
   "id": "7f03fd7b",
   "metadata": {},
   "source": [
    "### Start simulations \n",
    "\n",
    "Start simulations as per the parameters defined"
   ]
  },
  {
   "cell_type": "code",
   "execution_count": null,
   "id": "36b8defd",
   "metadata": {},
   "outputs": [],
   "source": [
    "# Start Simulations\n",
    "print(f\"Starting site: {model_ids}\") \n",
    "ac.start(model_ids, **params)\n",
    "print('Done')"
   ]
  },
  {
   "attachments": {},
   "cell_type": "markdown",
   "id": "47d2cb4f",
   "metadata": {},
   "source": [
    "### Get the model's input points\n",
    "Get a list of all of the model's input points (EP Actuators)\n",
    "- model_id - the id of the site returned by the `ac.submit` function\n"
   ]
  },
  {
   "cell_type": "code",
   "execution_count": null,
   "id": "e6917b00",
   "metadata": {},
   "outputs": [],
   "source": [
    "# set model ID \n",
    "model_id = '80525c30-f0ed-11ed-8b5d-e7f090934f65'\n",
    "print(f\"{model_id} inputs:\") \n",
    "pprint(ac.get_inputs(model_id))"
   ]
  },
  {
   "attachments": {},
   "cell_type": "markdown",
   "id": "8fdec00f",
   "metadata": {},
   "source": [
    "### Set model input point\n",
    "\n",
    "To set an input value use the `ac.set_inputs(model_id, inputs)` function.\n",
    "\n",
    "- `inputs_dict` - a dictionary of input names and the desired values"
   ]
  },
  {
   "cell_type": "code",
   "execution_count": null,
   "id": "8dcd5c8b",
   "metadata": {},
   "outputs": [],
   "source": [
    "input_dict = {'Cafeteria_ZN_1_FLR_1_ZN_PSZ_AC_2_7_Outside_Air_Damper_CMD': 0.7}\n",
    "ac.set_inputs(model_id, input_dict)\n",
    "print('Done')"
   ]
  },
  {
   "attachments": {},
   "cell_type": "markdown",
   "id": "73e98939",
   "metadata": {},
   "source": [
    "### Advance the model\n",
    "12/10/2021: timestep is hardcoded to 1 minute w/in Alfalfa worker."
   ]
  },
  {
   "cell_type": "code",
   "execution_count": null,
   "id": "3ac8a1ff",
   "metadata": {},
   "outputs": [],
   "source": [
    "timesteps = 5\n",
    "for _ in range(timesteps):\n",
    "    ac.advance([model_id])\n",
    "    print(f\"Model advanced to time: {ac.get_sim_time(model_id)}\")\n",
    "\n",
    "print('Done')"
   ]
  },
  {
   "attachments": {},
   "cell_type": "markdown",
   "id": "3e834273",
   "metadata": {},
   "source": [
    "### Get model's outputs\n",
    "Query the outputs (EP Sensors) of the models as well as their values"
   ]
  },
  {
   "cell_type": "code",
   "execution_count": null,
   "id": "8c4771b1",
   "metadata": {},
   "outputs": [],
   "source": [
    "print(f\"{model_id} outputs:\")\n",
    "pprint(ac.get_outputs(model_id))"
   ]
  },
  {
   "attachments": {},
   "cell_type": "markdown",
   "id": "bbfa711c",
   "metadata": {},
   "source": [
    "### Stop the simulations"
   ]
  },
  {
   "cell_type": "code",
   "execution_count": null,
   "id": "423c8f05",
   "metadata": {},
   "outputs": [],
   "source": [
    "ac.stop(model_id)"
   ]
  }
 ],
 "metadata": {
  "kernelspec": {
   "display_name": "Python 3 (ipykernel)",
   "language": "python",
   "name": "python3"
  },
  "language_info": {
   "codemirror_mode": {
    "name": "ipython",
    "version": 3
   },
   "file_extension": ".py",
   "mimetype": "text/x-python",
   "name": "python",
   "nbconvert_exporter": "python",
   "pygments_lexer": "ipython3",
   "version": "3.10.9"
  }
 },
 "nbformat": 4,
 "nbformat_minor": 5
}
