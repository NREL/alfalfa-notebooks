{
 "cells": [
  {
   "attachments": {},
   "cell_type": "markdown",
   "id": "dfae0c8b",
   "metadata": {},
   "source": [
    "# URBANopt to Alfalfa workflow "
   ]
  },
  {
   "cell_type": "code",
   "execution_count": null,
   "id": "8c2de5cb",
   "metadata": {},
   "outputs": [],
   "source": [
    "import os\n",
    "import shutil\n",
    "import json\n",
    "import pandas\n",
    "import datetime\n",
    "import time\n",
    "from alfalfa_client.alfalfa_client import AlfalfaClient\n",
    "from pprint import pprint\n",
    "from pathlib import Path"
   ]
  },
  {
   "attachments": {},
   "cell_type": "markdown",
   "id": "f892da4d",
   "metadata": {},
   "source": [
    "### Define alfalfa client object\n",
    "\n",
    "Use `pip install alfalfa-client` prior to running further commands"
   ]
  },
  {
   "cell_type": "code",
   "execution_count": null,
   "id": "97e6c517",
   "metadata": {},
   "outputs": [],
   "source": [
    "ac = AlfalfaClient(host='https://cctwin.nrel.gov')"
   ]
  },
  {
   "attachments": {},
   "cell_type": "markdown",
   "id": "79c10276",
   "metadata": {},
   "source": [
    "### Define Alfalfa simulation parameters"
   ]
  },
  {
   "cell_type": "code",
   "execution_count": null,
   "id": "414e3ec4",
   "metadata": {},
   "outputs": [],
   "source": [
    "# If you are using historian, you will need to search for this time period in Grafana dashboard to view results.\n",
    "start_dt = datetime.datetime(2021, 7, 1, 12, 2, 0)\n",
    "end_dt = datetime.datetime(2021, 7, 3, 0, 0, 0)\n",
    "\n",
    "# For external_clock == true, API calls are used to advance the model.  \n",
    "# If external_clock == false, Alfalfa will handle advancing the model according to a specified timescale (timescale 1 => realtime)\n",
    "params = {\n",
    "    \"external_clock\": True,\n",
    "    \"start_datetime\": start_dt,\n",
    "    \"end_datetime\": end_dt\n",
    "}"
   ]
  },
  {
   "attachments": {},
   "cell_type": "markdown",
   "id": "f10a562c",
   "metadata": {},
   "source": [
    "### Create folders to upload to Alfalfa from the URBANopt Project\n",
    "\n",
    "The code below will create folders for each URBANopt building model that can be uploaded to Alfalfa. The folder contains: \n",
    "\n",
    "    - Model Folder: Contains OpenStudio model (.osm file) for each building created using the URBANopt simulation.\n",
    "    - Measures Folder: Measures to be added while running Alfalfa in the OpenStudio Workflow\n",
    "    - Weather Folder: Contains EPW weather file \n",
    "    - workflow.osw file: OpenStudio workflow file\n",
    "\n",
    "**Define the following variables before running the code**:\n",
    "\n",
    "- `uo_folder` : URBANopt Scenario Directory \n",
    "- `weather`: Define weather file used in URBANopt project\n",
    "- `workflow`: OpenStudio workflow file name"
   ]
  },
  {
   "cell_type": "code",
   "execution_count": null,
   "id": "83836f8d",
   "metadata": {},
   "outputs": [],
   "source": [
    "# Set URBANopt scenario directory\n",
    "uo_folder = Path('C:/a/baseline_stochastic/run/baseline_scenario_stochastic')\n",
    "\n",
    "uo_scenario_folder = uo_folder.name\n",
    "uo_scenario_path = Path(f\"./{uo_scenario_folder}\")\n",
    "uo_scenario_path.mkdir(parents=True, exist_ok=True)\n",
    "\n",
    "print(f\"Folders saved at {uo_scenario_path}\")\n",
    "\n",
    "# Add .epw filename\n",
    "weather = \"USA_CO_Denver.Intl.AP.725650_TMY3.epw\"\n",
    "\n",
    "# Add .osw filename\n",
    "workflow = \"workflow.osw\"\n",
    "\n",
    "for file in uo_folder.iterdir():\n",
    "        \n",
    "    if file.is_dir() and (file / 'in.osm').exists():\n",
    "        uo_model_filepath = uo_scenario_path / file.name\n",
    "        uo_model_filepath.mkdir(parents=True, exist_ok=True)\n",
    "        (uo_model_filepath / 'models').mkdir(parents=True, exist_ok=True)\n",
    "        (uo_model_filepath / 'measures').mkdir(parents=True, exist_ok=True)\n",
    "        (uo_model_filepath / 'weather').mkdir(parents=True, exist_ok=True)\n",
    "\n",
    "        shutil.copy((uo_folder / file / 'in.osm'), (uo_model_filepath / 'models' / f'{file}.osm'))\n",
    "        shutil.copy((uo_folder / '../../weather' / weather), (uo_model_filepath / 'weather'))\n",
    "\n",
    "        #shutil.copy((os.path.join(uo_folder,filename, 'in.osm')), (os.path.join(uo_model_filepath, 'models', '{}.osm'.format(filename))))\n",
    "        #shutil.copy((os.path.join(uo_folder, '../../weather', weather)), (os.path.join(uo_model_filepath, 'weather')))\n",
    "    \n",
    "        osw = {\"seed_file\": f\"{file}.osm\",\n",
    "           \"weather_file\": f\"{weather}\",\n",
    "           \"measure_paths\": \"./measures\",\n",
    "           \"run_directory\": \"./run/\",\n",
    "           \"file_paths\": [\n",
    "               \"./weather/\",\n",
    "               \"./models/\"\n",
    "           ]\n",
    "          }\n",
    "        \n",
    "        f = open((uo_model_filepath / workflow), \"w+\")\n",
    "        f.write(json.dumps(osw, indent=4))\n",
    "        f.close()\n",
    "\n",
    "print('Done')       "
   ]
  },
  {
   "attachments": {},
   "cell_type": "markdown",
   "id": "1d848fef",
   "metadata": {},
   "source": [
    "### Upload models to Alfalfa\n",
    "\n",
    "- Submit models to Alfalfa server\n",
    "- Print model inputs (EP Actuators)"
   ]
  },
  {
   "cell_type": "code",
   "execution_count": null,
   "id": "07e99b2c",
   "metadata": {},
   "outputs": [],
   "source": [
    "for file in uo_scenario_path.iterdir():\n",
    "    \n",
    "    model_id = ac.submit(file)\n",
    "    print(model_id)\n",
    "        \n",
    "    # Start Simulations\n",
    "    print(f\"Starting site: {model_id}\")\n",
    "    ac.start(model_id, **params)\n",
    "        \n",
    "    # Get model input points\n",
    "    print(f\"{model_id} inputs:\")\n",
    "    pprint(ac.get_inputs(model_id)) \n",
    "       "
   ]
  },
  {
   "attachments": {},
   "cell_type": "markdown",
   "id": "8fdec00f",
   "metadata": {},
   "source": [
    "### Set model input point\n",
    "\n",
    "To set an input value use the `ac.set_inputs(site_id, inputs)` function.\n",
    "\n",
    "- `site_id` - the id of the site returned by the `ac.submit` function\n",
    "- `inputs_dict` - a dictionary of input names and the desired values"
   ]
  },
  {
   "cell_type": "code",
   "execution_count": null,
   "id": "8dcd5c8b",
   "metadata": {},
   "outputs": [],
   "source": [
    "input_dict = {'Core_ZN_ZN_PSZ_AC_1_Outside_Air_Damper_CMD': 0.7}\n",
    "ac.set_inputs(model_id, input_dict)"
   ]
  },
  {
   "attachments": {},
   "cell_type": "markdown",
   "id": "73e98939",
   "metadata": {},
   "source": [
    "### Advance the model\n",
    "12/10/2021: timestep is hardcoded to 1 minute w/in Alfalfa worker."
   ]
  },
  {
   "cell_type": "code",
   "execution_count": null,
   "id": "3ac8a1ff",
   "metadata": {},
   "outputs": [],
   "source": [
    "timesteps = 5\n",
    "for _ in range(timesteps):\n",
    "    ac.advance(model_id)\n",
    "    print(f\"Model advanced to time: {ac.get_sim_time(model_id)}\")"
   ]
  },
  {
   "attachments": {},
   "cell_type": "markdown",
   "id": "3e834273",
   "metadata": {},
   "source": [
    "### Get model's outputs\n",
    "Query the outputs (EP Sensors) of the models as well as their values"
   ]
  },
  {
   "cell_type": "code",
   "execution_count": null,
   "id": "8c4771b1",
   "metadata": {},
   "outputs": [],
   "source": [
    "print(f\"{model_id} outputs:\")\n",
    "pprint(ac.outputs(model_id))"
   ]
  },
  {
   "attachments": {},
   "cell_type": "markdown",
   "id": "bbfa711c",
   "metadata": {},
   "source": [
    "### Stop the simulations"
   ]
  },
  {
   "cell_type": "code",
   "execution_count": null,
   "id": "423c8f05",
   "metadata": {},
   "outputs": [],
   "source": [
    "ac.stop(model_id)"
   ]
  }
 ],
 "metadata": {
  "kernelspec": {
   "display_name": "Python 3 (ipykernel)",
   "language": "python",
   "name": "python3"
  },
  "language_info": {
   "codemirror_mode": {
    "name": "ipython",
    "version": 3
   },
   "file_extension": ".py",
   "mimetype": "text/x-python",
   "name": "python",
   "nbconvert_exporter": "python",
   "pygments_lexer": "ipython3",
   "version": "3.10.9"
  }
 },
 "nbformat": 4,
 "nbformat_minor": 5
}
