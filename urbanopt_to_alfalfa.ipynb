{
 "cells": [
  {
   "cell_type": "markdown",
   "id": "dfae0c8b",
   "metadata": {},
   "source": [
    "# URBANopt to Alfalfa workflow \n",
    "\n",
    "This script uploads OpenStudio models created from an URBANopt simulation to Alfalfa. It also allows setting actuator values as inputs to the corresponding EnergyPlus models and receiving sensor values as outputs. Such a workflow will enable interacting with the building energy models during run-time and implementing control strategies within an district or community. Refer to the [URBANopt to Alfalfa](https://github.com/NREL/alfalfa/wiki/Running-URBANopt-models-in-Alfalfa) documentation for more details."
   ]
  },
  {
   "cell_type": "code",
   "execution_count": 1,
   "id": "8c2de5cb",
   "metadata": {},
   "outputs": [],
   "source": [
    "import os\n",
    "import shutil\n",
    "import json\n",
    "import pandas\n",
    "import datetime\n",
    "import time\n",
    "from alfalfa_client.alfalfa_client import AlfalfaClient\n",
    "from pprint import pprint\n",
    "from pathlib import Path"
   ]
  },
  {
   "cell_type": "markdown",
   "id": "f892da4d",
   "metadata": {},
   "source": [
    "### Define alfalfa client object\n"
   ]
  },
  {
   "cell_type": "code",
   "execution_count": 2,
   "id": "97e6c517",
   "metadata": {},
   "outputs": [],
   "source": [
    "ac = AlfalfaClient(host='https://alfalfa-staging.nrel.gov')"
   ]
  },
  {
   "cell_type": "markdown",
   "id": "f10a562c",
   "metadata": {},
   "source": [
    "### Create folders to upload to Alfalfa from the URBANopt Project\n",
    "\n",
    "The code below will create folders for each URBANopt building model that can be uploaded to Alfalfa. The folder contains: \n",
    "\n",
    "    - Model Folder: Contains OpenStudio model (.osm file) for each building created using the URBANopt simulation.\n",
    "    - Measures Folder: Measures to be added while running Alfalfa in the OpenStudio Workflow\n",
    "    - Weather Folder: Contains EPW weather file \n",
    "    - workflow.osw file: OpenStudio workflow file\n",
    "\n",
    "**Define the following variables before running the code**:\n",
    "\n",
    "- `uo_folder` : URBANopt Scenario Directory \n",
    "- `weather`: Define weather file used in URBANopt project\n",
    "- `workflow`: OpenStudio workflow file name"
   ]
  },
  {
   "cell_type": "code",
   "execution_count": 6,
   "id": "83836f8d",
   "metadata": {},
   "outputs": [
    {
     "name": "stdout",
     "output_type": "stream",
     "text": [
      "Folders saved at example_urbanopt_scenario_alfalfa\n",
      "Done\n"
     ]
    }
   ],
   "source": [
    "# Set URBANopt scenario directory\n",
    "uo_folder = Path('./example_urbanopt_project/run/example_urbanopt_scenario')\n",
    "\n",
    "uo_scenario_folder = uo_folder.name\n",
    "uo_scenario_path = Path(f\"./{uo_scenario_folder}_alfalfa\")\n",
    "if uo_scenario_path.exists():\n",
    "    shutil.rmtree(uo_scenario_path)\n",
    "uo_scenario_path.mkdir(parents=True, exist_ok=True)\n",
    "\n",
    "print(f\"Folders saved at {uo_scenario_path}\")\n",
    "\n",
    "# Add .epw filename\n",
    "weather = \"USA_CO_Denver.Intl.AP.725650_TMY3.epw\"\n",
    "\n",
    "# Add .osw filename\n",
    "workflow = \"workflow.osw\"\n",
    "\n",
    "for file in uo_folder.iterdir():\n",
    "        \n",
    "    if file.is_dir() and (file / 'in.osm').exists():\n",
    "        uo_model_filepath = uo_scenario_path / file.name\n",
    "        uo_model_filepath.mkdir(parents=True, exist_ok=True)\n",
    "        (uo_model_filepath / 'models').mkdir(parents=True, exist_ok=True)\n",
    "        (uo_model_filepath / 'measures').mkdir(parents=True, exist_ok=True)\n",
    "        (uo_model_filepath / 'weather').mkdir(parents=True, exist_ok=True)\n",
    "\n",
    "        shutil.copy((file / 'in.osm'), (uo_model_filepath / 'models' / f'{file.name}.osm'))\n",
    "        shutil.copy((uo_folder / '../../weather' / weather), (uo_model_filepath / 'weather'))\n",
    "    \n",
    "        osw = {\"seed_file\": f\"{file.name}.osm\",\n",
    "           \"weather_file\": f\"{weather}\",\n",
    "           \"measure_paths\": [\"./measures\"],\n",
    "           \"run_directory\": \"./run/\",\n",
    "           \"file_paths\": [\n",
    "               \"./weather/\",\n",
    "               \"./models/\"\n",
    "           ],\n",
    "            \"steps\" : [\n",
    "                {\n",
    "                    \"measure_dir_name\" : \"alfalfa_vars\",\n",
    "                    \"name\" : \"Alfalfa Variables\",\n",
    "                    \"description\" : \"Add custom variables for Alfalfa\",\n",
    "                    \"modeler_description\" : \"Add EMS global variables required by Alfalfa\",\n",
    "                    \"arguments\" : {\n",
    "                        \"model\" : f\"{file.name}.osm\"\n",
    "                    }\n",
    "                }\n",
    "            ]\n",
    "          }\n",
    "        \n",
    "        f = open((uo_model_filepath / workflow), \"w+\")\n",
    "        f.write(json.dumps(osw, indent=4))\n",
    "        f.close()\n",
    "\n",
    "print('Done')       "
   ]
  },
  {
   "cell_type": "markdown",
   "id": "1d848fef",
   "metadata": {},
   "source": [
    "### Upload models to Alfalfa\n",
    "\n",
    "Submit models to Alfalfa server\n"
   ]
  },
  {
   "cell_type": "code",
   "execution_count": 22,
   "id": "2256c5ba",
   "metadata": {},
   "outputs": [
    {
     "name": "stdout",
     "output_type": "stream",
     "text": [
      "uploading [WindowsPath('example_urbanopt_scenario_alfalfa/61'), WindowsPath('example_urbanopt_scenario_alfalfa/62'), WindowsPath('example_urbanopt_scenario_alfalfa/63')]\n",
      "Desired status: ready\t\tCurrent status: preprocessing\n",
      "Desired status: ready\t\tCurrent status: preprocessing\n",
      "Desired status: ready\t\tCurrent status: preprocessing\n",
      "Desired status: ready\t\tCurrent status: ready\n",
      "Desired status: ready\t\tCurrent status: ready\n",
      "Desired status: ready\t\tCurrent status: ready\n",
      "['246077f0-566d-11ee-80a8-f546b406f534', '245eca40-566d-11ee-80a8-f546b406f534', '245f8d90-566d-11ee-80a8-f546b406f534']\n"
     ]
    }
   ],
   "source": [
    "files = list(uo_scenario_path.iterdir()) \n",
    "print(f\"uploading {files}\") \n",
    "model_ids = ac.submit(files) \n",
    "print(model_ids)\n"
   ]
  },
  {
   "cell_type": "markdown",
   "id": "79c10276",
   "metadata": {},
   "source": [
    "### Define Alfalfa simulation parameters\n",
    "\n",
    "- start_dt : This is the start date and time for the simulation in the following format (YYYY, M, D, H, M, S)\n",
    "- end_dt : This is the end date and time for the simulation in the following format (YYYY, M, D, H, M, S)\n",
    "- params : This defines the simulation parameters for the simulation including the start/end date and time and whether the model advances via API calls or a specified timescale\n",
    "    "
   ]
  },
  {
   "cell_type": "code",
   "execution_count": 23,
   "id": "414e3ec4",
   "metadata": {},
   "outputs": [],
   "source": [
    "# If you are using historian, you will need to search for this time period in Grafana dashboard to view results.\n",
    "start_dt = datetime.datetime(2023, 5, 10, 12, 2, 0)\n",
    "end_dt = datetime.datetime(2023, 5, 10, 12, 3, 0)\n",
    "\n",
    "# For external_clock == true, API calls are used to advance the model.  \n",
    "# If external_clock == false, Alfalfa will handle advancing the model according to a specified timescale (timescale 1 => realtime)\n",
    "params = {\n",
    "    \"external_clock\": True,\n",
    "    \"start_datetime\": start_dt,\n",
    "    \"end_datetime\": end_dt\n",
    "}"
   ]
  },
  {
   "cell_type": "markdown",
   "id": "7f03fd7b",
   "metadata": {},
   "source": [
    "### Start simulations \n",
    "\n",
    "Start simulations as per the parameters defined"
   ]
  },
  {
   "cell_type": "code",
   "execution_count": 24,
   "id": "36b8defd",
   "metadata": {},
   "outputs": [
    {
     "name": "stdout",
     "output_type": "stream",
     "text": [
      "Starting site: ['246077f0-566d-11ee-80a8-f546b406f534', '245eca40-566d-11ee-80a8-f546b406f534', '245f8d90-566d-11ee-80a8-f546b406f534']\n",
      "Desired status: running\t\tCurrent status: ready\n",
      "Desired status: running\t\tCurrent status: ready\n",
      "Desired status: running\t\tCurrent status: ready\n",
      "Desired status: running\t\tCurrent status: startedDesired status: running\t\tCurrent status: started\n",
      "Desired status: running\t\tCurrent status: started\n",
      "\n",
      "Desired status: running\t\tCurrent status: running\n",
      "Desired status: running\t\tCurrent status: running\n",
      "Desired status: running\t\tCurrent status: running\n",
      "Done\n"
     ]
    }
   ],
   "source": [
    "# Start Simulations\n",
    "print(f\"Starting site: {model_ids}\") \n",
    "ac.start(model_ids, **params)\n",
    "print('Done')"
   ]
  },
  {
   "cell_type": "markdown",
   "id": "47d2cb4f",
   "metadata": {},
   "source": [
    "### Set the model ID "
   ]
  },
  {
   "cell_type": "code",
   "execution_count": 28,
   "id": "e6917b00",
   "metadata": {},
   "outputs": [],
   "source": [
    "# set model ID \n",
    "model_id = '246077f0-566d-11ee-80a8-f546b406f534'"
   ]
  },
  {
   "cell_type": "markdown",
   "id": "e54e9d11",
   "metadata": {},
   "source": [
    "### Get the model's input points\n",
    "Get a list of all of the model's input points (EP Actuators)\n",
    "- model_id - the id of the site returned by the `ac.submit` function"
   ]
  },
  {
   "cell_type": "code",
   "execution_count": 18,
   "id": "7bfc4eb1",
   "metadata": {},
   "outputs": [
    {
     "name": "stdout",
     "output_type": "stream",
     "text": [
      "c77492b0-5667-11ee-80a8-f546b406f534 inputs:\n",
      "['OfficeSmall HTGSETP_SCH_NO_OPTIMUM',\n",
      " 'OfficeSmall CLGSETP_SCH_NO_OPTIMUM',\n",
      " 'MasterEnable',\n",
      " 'Zone_PVAV_with_PFP_Boxes_and_Reheat_1_Outside_Air_Damper_CMD',\n",
      " 'Zone_PVAV_with_PFP_Boxes_and_Reheat_Outside_Air_Damper_CMD']\n"
     ]
    }
   ],
   "source": [
    "print(f\"{model_id} inputs:\") \n",
    "pprint(ac.get_inputs(model_id))"
   ]
  },
  {
   "cell_type": "markdown",
   "id": "8fdec00f",
   "metadata": {},
   "source": [
    "### Set model input point\n",
    "\n",
    "To set an input value use the `ac.set_inputs(model_id, inputs)` function.\n",
    "\n",
    "- `inputs_dict` - a dictionary of input names and the desired values"
   ]
  },
  {
   "cell_type": "code",
   "execution_count": 17,
   "id": "8dcd5c8b",
   "metadata": {},
   "outputs": [
    {
     "name": "stdout",
     "output_type": "stream",
     "text": [
      "Done\n"
     ]
    }
   ],
   "source": [
    "input_dict = {'Zone_PVAV_with_PFP_Boxes_and_Reheat_1_Outside_Air_Damper_CMD': 10}\n",
    "ac.set_inputs(model_id, input_dict)\n",
    "print('Done')"
   ]
  },
  {
   "cell_type": "markdown",
   "id": "73e98939",
   "metadata": {},
   "source": [
    "### Advance the model\n",
    "12/10/2021: timestep is hardcoded to 1 minute w/in Alfalfa worker."
   ]
  },
  {
   "cell_type": "code",
   "execution_count": 33,
   "id": "3ac8a1ff",
   "metadata": {},
   "outputs": [
    {
     "name": "stdout",
     "output_type": "stream",
     "text": [
      "Model advanced to time: 2023-05-10 12:13:00\n",
      "Model advanced to time: 2023-05-10 12:14:00\n",
      "Model advanced to time: 2023-05-10 12:15:00\n",
      "Model advanced to time: 2023-05-10 12:16:00\n",
      "Model advanced to time: 2023-05-10 12:17:00\n",
      "Done\n"
     ]
    }
   ],
   "source": [
    "timesteps = 5\n",
    "for _ in range(timesteps):\n",
    "    ac.advance([model_id])\n",
    "    print(f\"Model advanced to time: {ac.get_sim_time(model_id)}\")\n",
    "\n",
    "print('Done')"
   ]
  },
  {
   "cell_type": "markdown",
   "id": "3e834273",
   "metadata": {},
   "source": [
    "### Get model's outputs\n",
    "Query the outputs (EP Sensors) of the models as well as their values"
   ]
  },
  {
   "cell_type": "code",
   "execution_count": 34,
   "id": "8c4771b1",
   "metadata": {},
   "outputs": [
    {
     "name": "stdout",
     "output_type": "stream",
     "text": [
      "246077f0-566d-11ee-80a8-f546b406f534 outputs:\n",
      "datetime.datetime(2023, 5, 10, 12, 17)\n",
      "{'Building Story 1 ThermalZone 1 Air Temperature': 23.89,\n",
      " 'Building Story 1 ThermalZone 1 Humidity': 22.51490412742895,\n",
      " 'Building Story 1 ThermalZone 1 Temperature Setpoint': 23.89,\n",
      " 'Building Story 1 ThermalZone 2 Air Temperature': 23.89,\n",
      " 'Building Story 1 ThermalZone 2 Humidity': 22.54207393057103,\n",
      " 'Building Story 1 ThermalZone 2 Temperature Setpoint': 23.89,\n",
      " 'Building Story 1 ThermalZone 3 Air Temperature': 23.89,\n",
      " 'Building Story 1 ThermalZone 3 Humidity': 24.10053781302317,\n",
      " 'Building Story 1 ThermalZone 3 Temperature Setpoint': 23.89,\n",
      " 'Building Story 1 ThermalZone 4 Air Temperature': 23.89,\n",
      " 'Building Story 1 ThermalZone 4 Humidity': 22.42885396653839,\n",
      " 'Building Story 1 ThermalZone 4 Temperature Setpoint': 23.89,\n",
      " 'Building Story 1 ThermalZone Air Temperature': 21.90373960220199,\n",
      " 'Building Story 1 ThermalZone Humidity': 29.96375926876331,\n",
      " 'Building Story 1 ThermalZone Temperature Setpoint': 21.90261684965786,\n",
      " 'Building Story 2 ThermalZone 1 Air Temperature': 23.90426798353085,\n",
      " 'Building Story 2 ThermalZone 1 Humidity': 24.33851608504902,\n",
      " 'Building Story 2 ThermalZone 1 Temperature Setpoint': 23.89,\n",
      " 'Building Story 2 ThermalZone 2 Air Temperature': 23.89,\n",
      " 'Building Story 2 ThermalZone 2 Humidity': 24.39168949372429,\n",
      " 'Building Story 2 ThermalZone 2 Temperature Setpoint': 23.89,\n",
      " 'Building Story 2 ThermalZone 3 Air Temperature': 23.89,\n",
      " 'Building Story 2 ThermalZone 3 Humidity': 24.47325164769684,\n",
      " 'Building Story 2 ThermalZone 3 Temperature Setpoint': 23.89,\n",
      " 'Building Story 2 ThermalZone 4 Air Temperature': 23.89,\n",
      " 'Building Story 2 ThermalZone 4 Humidity': 24.35824795175913,\n",
      " 'Building Story 2 ThermalZone 4 Temperature Setpoint': 23.89,\n",
      " 'Building Story 2 ThermalZone Air Temperature': 23.89268363016183,\n",
      " 'Building Story 2 ThermalZone Humidity': 24.83710533282491,\n",
      " 'Building Story 2 ThermalZone Temperature Setpoint': 23.89,\n",
      " 'OfficeSmall CLGSETP_SCH_NO_OPTIMUM': 23.89,\n",
      " 'OfficeSmall HTGSETP_SCH_NO_OPTIMUM': 21.11,\n",
      " 'Whole Building Electricity': 3654925.192754569,\n",
      " 'Zone PVAV with PFP Boxes and Reheat 1 Discharge Air Flow Sensor': 4.90882854987323,\n",
      " 'Zone PVAV with PFP Boxes and Reheat 1 Discharge Air Temp Sensor': 15.47405984993274,\n",
      " 'Zone PVAV with PFP Boxes and Reheat 1 Exhaust Air Flow Sensor': 0.7368449088999959,\n",
      " 'Zone PVAV with PFP Boxes and Reheat 1 Exhaust Air Temp Sensor': 23.89008354349531,\n",
      " 'Zone PVAV with PFP Boxes and Reheat 1 Mixed Air Flow Sensor': 4.90882854987323,\n",
      " 'Zone PVAV with PFP Boxes and Reheat 1 Mixed Air Temp Sensor': 24.57682110406591,\n",
      " 'Zone PVAV with PFP Boxes and Reheat 1 Outside Air Damper Sensor': 0.1501060591979781,\n",
      " 'Zone PVAV with PFP Boxes and Reheat 1 Outside Air Flow Sensor': 0.7368449088999959,\n",
      " 'Zone PVAV with PFP Boxes and Reheat 1 Outside Air Temp Sensor': 28.47,\n",
      " 'Zone PVAV with PFP Boxes and Reheat 1 Return Air Flow Sensor': 4.90882854987323,\n",
      " 'Zone PVAV with PFP Boxes and Reheat 1 Return Air Temp Sensor': 23.89008354349531,\n",
      " 'Zone PVAV with PFP Boxes and Reheat Discharge Air Flow Sensor': 1.379346051320429,\n",
      " 'Zone PVAV with PFP Boxes and Reheat Discharge Air Temp Sensor': 15.55862825967463,\n",
      " 'Zone PVAV with PFP Boxes and Reheat Exhaust Air Flow Sensor': 1.16769274190531,\n",
      " 'Zone PVAV with PFP Boxes and Reheat Exhaust Air Temp Sensor': 23.14762300575908,\n",
      " 'Zone PVAV with PFP Boxes and Reheat Mixed Air Flow Sensor': 1.379346051320429,\n",
      " 'Zone PVAV with PFP Boxes and Reheat Mixed Air Temp Sensor': 27.65259854998052,\n",
      " 'Zone PVAV with PFP Boxes and Reheat Outside Air Damper Sensor': 0.8465553229282053,\n",
      " 'Zone PVAV with PFP Boxes and Reheat Outside Air Flow Sensor': 1.16769274190531,\n",
      " 'Zone PVAV with PFP Boxes and Reheat Outside Air Temp Sensor': 28.47,\n",
      " 'Zone PVAV with PFP Boxes and Reheat Return Air Flow Sensor': 1.379346051320429,\n",
      " 'Zone PVAV with PFP Boxes and Reheat Return Air Temp Sensor': 23.14762300575908}\n"
     ]
    }
   ],
   "source": [
    "print(f\"{model_id} outputs:\")\n",
    "\n",
    "# Print Simulation Time\n",
    "pprint(ac.get_sim_time(model_id))\n",
    "\n",
    "# Print output values\n",
    "pprint(ac.get_outputs(model_id))"
   ]
  },
  {
   "cell_type": "markdown",
   "id": "bbfa711c",
   "metadata": {},
   "source": [
    "### Stop the simulations"
   ]
  },
  {
   "cell_type": "code",
   "execution_count": null,
   "id": "423c8f05",
   "metadata": {},
   "outputs": [],
   "source": [
    "ac.stop(model_id)"
   ]
  }
 ],
 "metadata": {
  "kernelspec": {
   "display_name": "Python 3 (ipykernel)",
   "language": "python",
   "name": "python3"
  },
  "language_info": {
   "codemirror_mode": {
    "name": "ipython",
    "version": 3
   },
   "file_extension": ".py",
   "mimetype": "text/x-python",
   "name": "python",
   "nbconvert_exporter": "python",
   "pygments_lexer": "ipython3",
   "version": "3.10.9"
  }
 },
 "nbformat": 4,
 "nbformat_minor": 5
}
