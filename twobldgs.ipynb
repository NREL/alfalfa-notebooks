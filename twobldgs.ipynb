{
 "cells": [
  {
   "cell_type": "markdown",
   "id": "eca9cde5",
   "metadata": {},
   "source": [
    "# Simple Alfalfa Example\n",
    "\n",
    "## Setup\n",
    "1. [Alfalfa stack deployed](https://github.com/NREL/alfalfa/wiki/Deployment) locally with **at least two workers**\n",
    "1. [alfalfa](https://github.com/NREL/alfalfa) cloned in same root directory and this alfalfa-notebooks repo.  This is used only for local paths to models, so you can also update those paths and populate models another way.\n",
    "\n",
    "## Notes\n",
    "1. For Alfalfa v0.2.0, API reads and writes are implemented over the [Haystack API](https://project-haystack.org/doc/docHaystack/HttpApi), particularly the `read` and `pointWrite` endpoints.\n"
   ]
  },
  {
   "cell_type": "code",
   "execution_count": null,
   "id": "dbf348d8",
   "metadata": {},
   "outputs": [],
   "source": [
    "import os\n",
    "import datetime\n",
    "import time\n",
    "from alfalfa_client.alfalfa_client import AlfalfaClient"
   ]
  },
  {
   "cell_type": "code",
   "execution_count": null,
   "id": "1a6f2000",
   "metadata": {},
   "outputs": [],
   "source": [
    "# Create a new client\n",
    "ac = AlfalfaClient(url='http://localhost')"
   ]
  },
  {
   "cell_type": "code",
   "execution_count": null,
   "id": "9a981f5e",
   "metadata": {},
   "outputs": [],
   "source": [
    "# Local paths to models for upload.  Assumes alfalfa and alfalfa-notebooks are cloned in same root dir.\n",
    "\n",
    "m1 = '../alfalfa/tests/integration/models/single_zone_vav.fmu'\n",
    "m2 = '../alfalfa/tests/integration/models/refrig_case_osw 2.zip'"
   ]
  },
  {
   "cell_type": "code",
   "execution_count": null,
   "id": "83eed335",
   "metadata": {},
   "outputs": [],
   "source": [
    "# Upload to Alfalfa \n",
    "# 12/10/2021: you will see the models appear in UI at http://localhost/sites\n",
    "# The metadata is generated on upload and can be viewed at `http://localhost/api/read?filter=point` and `http://localhost/api/read?filter=site`.\n",
    "# A simulation is a \"site\".\n",
    "m1_id = ac.submit(m1)\n",
    "m2_id = ac.submit(m2)\n"
   ]
  },
  {
   "cell_type": "code",
   "execution_count": null,
   "id": "3a3e5857",
   "metadata": {},
   "outputs": [],
   "source": [
    "print(m1_id)\n",
    "print(m2_id)"
   ]
  },
  {
   "cell_type": "code",
   "execution_count": null,
   "id": "7db94646",
   "metadata": {},
   "outputs": [],
   "source": [
    "# Define the run parameters.  \n",
    "# If you are using historian, you will need to search for this time period in Grafana dashboard to view results.\n",
    "start_dt = datetime.datetime(2021, 7, 1, 12, 2, 0)\n",
    "end_dt = datetime.datetime(2021, 7, 3, 0, 0, 0)\n",
    "\n",
    "# For external_clock == true, API calls are used to advance the model.  \n",
    "# If external_clock == false, Alfalfa will handle advancing the model according to a specified timescale (timescale 1 => realtime)\n",
    "params = {\n",
    "    \"external_clock\": \"true\",\n",
    "    \"start_datetime\": start_dt,\n",
    "    \"end_datetime\": end_dt\n",
    "}"
   ]
  },
  {
   "cell_type": "code",
   "execution_count": null,
   "id": "020b9269",
   "metadata": {},
   "outputs": [],
   "source": [
    "# Start simulations \n",
    "# Note: one sim runs / worker, so if you have not scaled your local deployment to workers >= 2, \n",
    "# the second worker won't have a chance to start and this code block will not complete.\n",
    "\n",
    "ac.start(m1_id, **params)\n",
    "ac.start(m2_id, **params)"
   ]
  },
  {
   "cell_type": "code",
   "execution_count": null,
   "id": "d486b7eb",
   "metadata": {},
   "outputs": [],
   "source": [
    "# Advance the model.  \n",
    "# 12/10/2021: timestep is hardcoded to 1 minute w/in Alfalfa worker.\n",
    "# Model values are exposed as the `curVal` for points and can be viewed at `http://localhost/api/read?filter=point`\n",
    "ac.advance([m1_id, m2_id])"
   ]
  },
  {
   "cell_type": "code",
   "execution_count": null,
   "id": "f1d1839c",
   "metadata": {},
   "outputs": [],
   "source": [
    "# Stop the models\n",
    "ac.stop(m1_id)\n",
    "ac.stop(m2_id)"
   ]
  }
 ],
 "metadata": {
  "interpreter": {
   "hash": "a4e15f636d375cde676b1a1c889053ee99561357f6fd296cf9e4c457fad780d8"
  },
  "kernelspec": {
   "display_name": "Python 3 (ipykernel)",
   "language": "python",
   "name": "python3"
  },
  "language_info": {
   "codemirror_mode": {
    "name": "ipython",
    "version": 3
   },
   "file_extension": ".py",
   "mimetype": "text/x-python",
   "name": "python",
   "nbconvert_exporter": "python",
   "pygments_lexer": "ipython3",
   "version": "3.7.10"
  }
 },
 "nbformat": 4,
 "nbformat_minor": 5
}
