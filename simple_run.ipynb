{
 "cells": [
  {
   "attachments": {},
   "cell_type": "markdown",
   "id": "eca9cde5",
   "metadata": {
    "tags": []
   },
   "source": [
    "# Simple Alfalfa Example\n",
    "\n",
    "## Setup\n",
    "1. [Alfalfa stack deployed](https://github.com/NREL/alfalfa/wiki/Deployment) locally or have the url for the alfalfa host you are using\n"
   ]
  },
  {
   "cell_type": "code",
   "execution_count": null,
   "id": "dbf348d8",
   "metadata": {},
   "outputs": [],
   "source": [
    "import datetime\n",
    "from alfalfa_client.alfalfa_client import AlfalfaClient\n",
    "from pprint import pprint"
   ]
  },
  {
   "attachments": {},
   "cell_type": "markdown",
   "id": "c62fb5ac-6dc8-4ba4-84d5-cbca46c87383",
   "metadata": {
    "tags": []
   },
   "source": [
    "### Create new alfalfa client object\n",
    "If you are not hosting the alfalfa server yourself replace the `host` with the one of your server without a trailing slash (this is a known bug and will eventially be fixed)"
   ]
  },
  {
   "cell_type": "code",
   "execution_count": null,
   "id": "1a6f2000",
   "metadata": {},
   "outputs": [],
   "source": [
    "ac = AlfalfaClient(host='http://localhost')"
   ]
  },
  {
   "attachments": {},
   "cell_type": "markdown",
   "id": "07b71860-33e1-4e17-8071-6917ec71eaa8",
   "metadata": {
    "tags": []
   },
   "source": [
    "### Define paths to models to be uploaded\n",
    "Model path can be a directory (for OSWs) or a file (.zip for OSWs or .fmu)"
   ]
  },
  {
   "cell_type": "code",
   "execution_count": null,
   "id": "bfa57397-ff73-4069-9c2f-ca1e9839e3ac",
   "metadata": {},
   "outputs": [],
   "source": [
    "model_path = './twobldgs'"
   ]
  },
  {
   "attachments": {},
   "cell_type": "markdown",
   "id": "769a8ac3-80ba-433c-a554-6e634ec16635",
   "metadata": {},
   "source": [
    "### Upload sites to alfalfa\n",
    "The `ac.submit` function returns the site_id which is used to interact with that specific site over the API. A simulation is a site.\n",
    "\n",
    "\n",
    "Sites can be viewed at http://localhost/sites"
   ]
  },
  {
   "cell_type": "code",
   "execution_count": null,
   "id": "83eed335",
   "metadata": {},
   "outputs": [],
   "source": [
    "site_id = ac.submit(model_path)\n",
    "print(site_id)\n"
   ]
  },
  {
   "cell_type": "markdown",
   "id": "d1eb656f-34aa-4668-9c41-bbf7a5f79a19",
   "metadata": {},
   "source": [
    "### Define parameters to run the simulations"
   ]
  },
  {
   "cell_type": "code",
   "execution_count": null,
   "id": "7db94646",
   "metadata": {},
   "outputs": [],
   "source": [
    "# If you are using historian, you will need to search for this time period in Grafana dashboard to view results.\n",
    "start_dt = datetime.datetime(2021, 7, 1, 12, 2, 0)\n",
    "end_dt = datetime.datetime(2021, 7, 3, 0, 0, 0)\n",
    "\n",
    "# For external_clock == true, API calls are used to advance the model.\n",
    "# If external_clock == false, Alfalfa will handle advancing the model according to a specified timescale (timescale 1 => realtime)\n",
    "params = {\n",
    "    \"external_clock\": True,\n",
    "    \"start_datetime\": start_dt,\n",
    "    \"end_datetime\": end_dt\n",
    "}"
   ]
  },
  {
   "cell_type": "markdown",
   "id": "18cb0ae1-7e55-440b-a1ea-ab22f7bc8a95",
   "metadata": {},
   "source": [
    "## Start simulations \n",
    "Note: one sim runs / worker, so if you have not scaled your local deployment to workers >= 2, the second worker won't have a chance to start and this code block will not complete."
   ]
  },
  {
   "cell_type": "code",
   "execution_count": null,
   "id": "394ed615-f0dc-4ad3-b951-7e1ca1318924",
   "metadata": {},
   "outputs": [],
   "source": [
    "print(f\"Starting site: {site_id}\")\n",
    "ac.start(site_id, **params)"
   ]
  },
  {
   "cell_type": "markdown",
   "id": "1a03c7c2-208f-4848-b272-0e470b46ada0",
   "metadata": {},
   "source": [
    "### Get the model's input points\n",
    "Get a list of all of the model's input points and their values\n"
   ]
  },
  {
   "cell_type": "code",
   "execution_count": null,
   "id": "424c49a0-312d-4d3e-a731-dbabb531d7ba",
   "metadata": {},
   "outputs": [],
   "source": [
    "print(f\"{site_id} inputs:\")\n",
    "pprint(ac.get_inputs(site_id))"
   ]
  },
  {
   "attachments": {},
   "cell_type": "markdown",
   "id": "46ec8ab1-3dec-41e9-b861-38c6cfa8636a",
   "metadata": {},
   "source": [
    "## Set model input point\n",
    "\n",
    "To set an input value use the `ac.set_inputs(site_id, inputs)` function. \n",
    "- `site_id` - the id of the site returned by the `ac.submit` function\n",
    "- `inputs` - a dictionary of input names and the desired values\n"
   ]
  },
  {
   "cell_type": "code",
   "execution_count": null,
   "id": "dd202a92-bd76-41c7-99d3-0c1c7f704da7",
   "metadata": {},
   "outputs": [],
   "source": [
    "input_dict = {'Core_ZN_ZN_PSZ_AC_1_Outside_Air_Damper_CMD': 0.7}\n",
    "ac.set_inputs(site_id, input_dict)"
   ]
  },
  {
   "attachments": {},
   "cell_type": "markdown",
   "id": "922fad53-ac85-4af6-8365-30ea6ea885e1",
   "metadata": {},
   "source": [
    "### Advance the model\n",
    "12/10/2021: timestep is hardcoded to 1 minute w/in Alfalfa worker."
   ]
  },
  {
   "cell_type": "code",
   "execution_count": null,
   "id": "d486b7eb",
   "metadata": {},
   "outputs": [],
   "source": [
    "timesteps = 5\n",
    "for _ in range(timesteps):\n",
    "    ac.advance(site_id)\n",
    "    print(f\"Model advanced to time: {ac.get_sim_time(site_id)}\")"
   ]
  },
  {
   "cell_type": "markdown",
   "id": "1cb6df18-25de-40f5-8c69-d42747ac6844",
   "metadata": {},
   "source": [
    "### Get model's outputs\n",
    "Query the outputs of the models as well as their values"
   ]
  },
  {
   "cell_type": "code",
   "execution_count": null,
   "id": "d7544dc0-2ce9-4d0d-9acd-b005795d3b4c",
   "metadata": {},
   "outputs": [],
   "source": [
    "print(f\"{site_id} outputs:\")\n",
    "pprint(ac.get_outputs(site_id))"
   ]
  },
  {
   "attachments": {},
   "cell_type": "markdown",
   "id": "09c1739c-9ac1-4560-9aa1-657e76718cbf",
   "metadata": {},
   "source": [
    "### Stop the simulation"
   ]
  },
  {
   "cell_type": "code",
   "execution_count": null,
   "id": "f1d1839c",
   "metadata": {},
   "outputs": [],
   "source": [
    "ac.stop(site_id)"
   ]
  },
  {
   "cell_type": "code",
   "execution_count": null,
   "id": "961eaecd",
   "metadata": {},
   "outputs": [],
   "source": []
  }
 ],
 "metadata": {
  "interpreter": {
   "hash": "a4e15f636d375cde676b1a1c889053ee99561357f6fd296cf9e4c457fad780d8"
  },
  "kernelspec": {
   "display_name": "Python 3 (ipykernel)",
   "language": "python",
   "name": "python3"
  },
  "language_info": {
   "codemirror_mode": {
    "name": "ipython",
    "version": 3
   },
   "file_extension": ".py",
   "mimetype": "text/x-python",
   "name": "python",
   "nbconvert_exporter": "python",
   "pygments_lexer": "ipython3",
   "version": "3.9.0"
  }
 },
 "nbformat": 4,
 "nbformat_minor": 5
}
